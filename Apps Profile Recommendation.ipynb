{
 "cells": [
  {
   "cell_type": "markdown",
   "metadata": {},
   "source": [
    "# Profitable Apps Profiles for AppStore and GooglePlay  (EN)\n",
    "The main source of revenue of companies that build free Android and iOS apps consists of in-app ads. Thus, the more users that see and engage with the ads, the better.  \n",
    "The objective of this project is to help the developers understand what type of apps are likely to attract more users. \n",
    "\n",
    "*NB: We can do a lot more on this project with the help of Pandas to manage the dataframes more effectively. But since I'm aiming to practice on the fundamental concepts in Python programming, I will only use lists, dictionaries and simple functions this time.*"
   ]
  },
  {
   "cell_type": "markdown",
   "metadata": {},
   "source": [
    "### Opening and Exploring the Data \n",
    "For this project, we have two data sets:\n",
    "* [A data set](https://www.kaggle.com/lava18/google-play-store-apps?select=googleplaystore.csv) containing data about approximately 10,000 Android apps from Google Play. The data is collected in August 2018.\n",
    "* [A data set](https://www.kaggle.com/ramamet4/app-store-apple-data-set-10k-apps) containing data about approximately 7,000 iOS apps from the App Store. The data was collected in July 2017.  "
   ]
  },
  {
   "cell_type": "markdown",
   "metadata": {},
   "source": [
    "We'll start by opening and exploring these two data sets."
   ]
  },
  {
   "cell_type": "code",
   "execution_count": 1,
   "metadata": {
    "ExecuteTime": {
     "end_time": "2020-07-06T12:46:44.688051Z",
     "start_time": "2020-07-06T12:46:44.608264Z"
    },
    "scrolled": true
   },
   "outputs": [],
   "source": [
    "from csv import reader\n",
    "\n",
    "### Create a function to open the two datasets ###\n",
    "def opening(file_name):\n",
    "    opened_file=open(file_name, encoding='utf-8')\n",
    "    read_file=reader(opened_file)\n",
    "    data=list(read_file)\n",
    "    header=data[0]\n",
    "    data=data[1:]\n",
    "    return header, data\n",
    "\n",
    "# iOS apps dataset\n",
    "ios_header, ios=opening('AppleStore.csv')\n",
    "\n",
    "# Android apps dataset\n",
    "android_header, android=opening('googleplaystore.csv')"
   ]
  },
  {
   "cell_type": "code",
   "execution_count": 2,
   "metadata": {
    "ExecuteTime": {
     "end_time": "2020-07-06T12:46:44.696031Z",
     "start_time": "2020-07-06T12:46:44.691043Z"
    },
    "scrolled": true
   },
   "outputs": [],
   "source": [
    "### Create a function to explore the two datasets ###\n",
    "def explore_data(dataset, start, end, rows_and_columns=False):\n",
    "    dataset_slice=dataset[start:end]\n",
    "    for row in dataset_slice:\n",
    "        print(row)\n",
    "        print('\\n')\n",
    "    \n",
    "    if rows_and_columns:\n",
    "        print('Number of rows:', len(dataset))\n",
    "        print('Number of columns:', len(dataset[0]))"
   ]
  },
  {
   "cell_type": "markdown",
   "metadata": {},
   "source": [
    "#### The `ios` dataset:"
   ]
  },
  {
   "cell_type": "code",
   "execution_count": 3,
   "metadata": {
    "ExecuteTime": {
     "end_time": "2020-07-06T12:46:44.707000Z",
     "start_time": "2020-07-06T12:46:44.698024Z"
    },
    "scrolled": true
   },
   "outputs": [
    {
     "name": "stdout",
     "output_type": "stream",
     "text": [
      "Exploring the iOS dataset: \n",
      "\n",
      "['id', 'track_name', 'size_bytes', 'currency', 'price', 'rating_count_tot', 'rating_count_ver', 'user_rating', 'user_rating_ver', 'ver', 'cont_rating', 'prime_genre', 'sup_devices.num', 'ipadSc_urls.num', 'lang.num', 'vpp_lic'] \n",
      "\n",
      "['281656475', 'PAC-MAN Premium', '100788224', 'USD', '3.99', '21292', '26', '4', '4.5', '6.3.5', '4+', 'Games', '38', '5', '10', '1']\n",
      "\n",
      "\n",
      "['281796108', 'Evernote - stay organized', '158578688', 'USD', '0', '161065', '26', '4', '3.5', '8.2.2', '4+', 'Productivity', '37', '5', '23', '1']\n",
      "\n",
      "\n",
      "['281940292', 'WeatherBug - Local Weather, Radar, Maps, Alerts', '100524032', 'USD', '0', '188583', '2822', '3.5', '4.5', '5.0.0', '4+', 'Weather', '37', '5', '3', '1']\n",
      "\n",
      "\n",
      "Number of rows: 7197\n",
      "Number of columns: 16\n"
     ]
    }
   ],
   "source": [
    "# Explore the iOS dataset\n",
    "print(\"Exploring the iOS dataset: \\n\")\n",
    "print(ios_header,'\\n')\n",
    "explore_data(dataset=ios,start=0,end=3, rows_and_columns=True)"
   ]
  },
  {
   "cell_type": "markdown",
   "metadata": {},
   "source": [
    "The `ios` dataset has 7197 rows and 16 columns.  \n",
    "The columns that might be useful for our analysis are:"
   ]
  },
  {
   "cell_type": "markdown",
   "metadata": {},
   "source": [
    "|Column|Description|\n",
    "|:---|:---|\n",
    "|track_name|App Name|\n",
    "|currency|Currency Type|\n",
    "|price|Price amount|\n",
    "|ratingcounttot|User Rating counts (for all version)|\n",
    "|ratingcountver|User Rating counts (for current version)|\n",
    "|prime_genre|Primary Genre|"
   ]
  },
  {
   "cell_type": "markdown",
   "metadata": {},
   "source": [
    "#### The `android` dataset:"
   ]
  },
  {
   "cell_type": "code",
   "execution_count": 4,
   "metadata": {
    "ExecuteTime": {
     "end_time": "2020-07-06T12:46:44.715976Z",
     "start_time": "2020-07-06T12:46:44.710990Z"
    },
    "scrolled": false
   },
   "outputs": [
    {
     "name": "stdout",
     "output_type": "stream",
     "text": [
      "Exploring the Android dataset \n",
      "\n",
      "['App', 'Category', 'Rating', 'Reviews', 'Size', 'Installs', 'Type', 'Price', 'Content Rating', 'Genres', 'Last Updated', 'Current Ver', 'Android Ver'] \n",
      "\n",
      "['Photo Editor & Candy Camera & Grid & ScrapBook', 'ART_AND_DESIGN', '4.1', '159', '19M', '10,000+', 'Free', '0', 'Everyone', 'Art & Design', 'January 7, 2018', '1.0.0', '4.0.3 and up']\n",
      "\n",
      "\n",
      "['Coloring book moana', 'ART_AND_DESIGN', '3.9', '967', '14M', '500,000+', 'Free', '0', 'Everyone', 'Art & Design;Pretend Play', 'January 15, 2018', '2.0.0', '4.0.3 and up']\n",
      "\n",
      "\n",
      "['U Launcher Lite – FREE Live Cool Themes, Hide Apps', 'ART_AND_DESIGN', '4.7', '87510', '8.7M', '5,000,000+', 'Free', '0', 'Everyone', 'Art & Design', 'August 1, 2018', '1.2.4', '4.0.3 and up']\n",
      "\n",
      "\n",
      "Number of rows: 10841\n",
      "Number of columns: 13\n"
     ]
    }
   ],
   "source": [
    "#Explore the Android dataset\n",
    "print(\"Exploring the Android dataset \\n\")\n",
    "print(android_header,'\\n')\n",
    "explore_data(dataset=android, start=0, end=3, rows_and_columns=True)"
   ]
  },
  {
   "cell_type": "markdown",
   "metadata": {},
   "source": [
    "The `android` dataset has 10841 rows and 13 columns.  \n",
    "The columns that might be useful for our analysis are:"
   ]
  },
  {
   "cell_type": "markdown",
   "metadata": {},
   "source": [
    "| Column | Description |\n",
    "|:---|:--- |\n",
    "|App|Application name|\n",
    "|Category|Category the app belongs to|\n",
    "|Reviews|Number of user reviews for the app (as when scraped)|\n",
    "|Installs|Number of user downloads/installs for the app (as when scraped)|\n",
    "|Type|Paid of Free|\n",
    "|Price|Price of the app (as when scraped)|\n",
    "|Genres|An app can belong to multiple genres (apart from its main category). For eg, a musical family game will belong to Music, Game, Family genres.|"
   ]
  },
  {
   "cell_type": "markdown",
   "metadata": {},
   "source": [
    "More details about the datasets can be found in the documentations:\n",
    "* [Android dataset](https://www.kaggle.com/lava18/google-play-store-apps/home)\n",
    "* [iOS dataset](https://www.kaggle.com/ramamet4/app-store-apple-data-set-10k-apps/home)"
   ]
  },
  {
   "cell_type": "markdown",
   "metadata": {},
   "source": [
    "### Data Cleaning\n",
    "In this step, we will make sure the data is accurate before jumping into any analysis. To do this, we need to:\n",
    "* Detect inaccurate data and correct or remove it\n",
    "* Detect duplicate data and remove the duplicates"
   ]
  },
  {
   "cell_type": "markdown",
   "metadata": {},
   "source": [
    "At our company, we only build free apps that are directed toward an English-speaking audience. This means that we'll need to:\n",
    "* Remove non-English apps\n",
    "* Remove apps that aren't free"
   ]
  },
  {
   "cell_type": "markdown",
   "metadata": {},
   "source": [
    "#### Detecting inaccurate data\n",
    "As reported in [one of the discussions](https://www.kaggle.com/lava18/google-play-store-apps/discussion/66015), there's an error on row 10472 of `android` dataset. We will check if it's true:"
   ]
  },
  {
   "cell_type": "code",
   "execution_count": 5,
   "metadata": {
    "ExecuteTime": {
     "end_time": "2020-07-06T12:46:44.725950Z",
     "start_time": "2020-07-06T12:46:44.720963Z"
    },
    "scrolled": true
   },
   "outputs": [
    {
     "name": "stdout",
     "output_type": "stream",
     "text": [
      "['App', 'Category', 'Rating', 'Reviews', 'Size', 'Installs', 'Type', 'Price', 'Content Rating', 'Genres', 'Last Updated', 'Current Ver', 'Android Ver'] \n",
      "\n",
      "['Photo Editor & Candy Camera & Grid & ScrapBook', 'ART_AND_DESIGN', '4.1', '159', '19M', '10,000+', 'Free', '0', 'Everyone', 'Art & Design', 'January 7, 2018', '1.0.0', '4.0.3 and up'] \n",
      "\n",
      "['Life Made WI-Fi Touchscreen Photo Frame', '1.9', '19', '3.0M', '1,000+', 'Free', '0', 'Everyone', '', 'February 11, 2018', '1.0.19', '4.0 and up']\n"
     ]
    }
   ],
   "source": [
    "print(android_header,'\\n') #the header\n",
    "print(android[0],'\\n') #normal row\n",
    "print(android[10472]) # row with error"
   ]
  },
  {
   "cell_type": "markdown",
   "metadata": {},
   "source": [
    "In fact, if we compare the length of row n°10472 with a normal row, we will see a difference:"
   ]
  },
  {
   "cell_type": "code",
   "execution_count": 6,
   "metadata": {
    "ExecuteTime": {
     "end_time": "2020-07-06T12:46:44.733929Z",
     "start_time": "2020-07-06T12:46:44.727946Z"
    },
    "scrolled": true
   },
   "outputs": [
    {
     "name": "stdout",
     "output_type": "stream",
     "text": [
      "Length of a normal row: 13\n",
      "Length of row 10472: 12\n"
     ]
    }
   ],
   "source": [
    "print(\"Length of a normal row:\",len(android[0]))\n",
    "print(\"Length of row 10472:\", len(android[10472]))"
   ]
  },
  {
   "cell_type": "markdown",
   "metadata": {},
   "source": [
    "We can also try to detect abnormal rows like this one using a for loop:"
   ]
  },
  {
   "cell_type": "code",
   "execution_count": 7,
   "metadata": {
    "ExecuteTime": {
     "end_time": "2020-07-06T12:46:44.741908Z",
     "start_time": "2020-07-06T12:46:44.735923Z"
    },
    "scrolled": true
   },
   "outputs": [],
   "source": [
    "def check_for_abnormal(dataset, header):\n",
    "    header_length=len(header)\n",
    "    for row in dataset:\n",
    "        row_length=len(row)\n",
    "        if row_length!=header_length:\n",
    "            print(\"Error on row:\",dataset.index(row))\n",
    "            print(row,'\\n')\n",
    "    print(\"Finished!\")"
   ]
  },
  {
   "cell_type": "code",
   "execution_count": 8,
   "metadata": {
    "ExecuteTime": {
     "end_time": "2020-07-06T12:46:44.750883Z",
     "start_time": "2020-07-06T12:46:44.743902Z"
    },
    "scrolled": true
   },
   "outputs": [
    {
     "name": "stdout",
     "output_type": "stream",
     "text": [
      "Error on row: 10472\n",
      "['Life Made WI-Fi Touchscreen Photo Frame', '1.9', '19', '3.0M', '1,000+', 'Free', '0', 'Everyone', '', 'February 11, 2018', '1.0.19', '4.0 and up'] \n",
      "\n",
      "Finished!\n"
     ]
    }
   ],
   "source": [
    "check_for_abnormal(dataset=android,header=android_header)"
   ]
  },
  {
   "cell_type": "markdown",
   "metadata": {},
   "source": [
    "The information in column `Category` of the incorrect row is missing. For the purpose of this exercise, we can delete this row."
   ]
  },
  {
   "cell_type": "code",
   "execution_count": 9,
   "metadata": {
    "ExecuteTime": {
     "end_time": "2020-07-06T12:46:44.757865Z",
     "start_time": "2020-07-06T12:46:44.752877Z"
    },
    "scrolled": true
   },
   "outputs": [],
   "source": [
    "del android[10472]"
   ]
  },
  {
   "cell_type": "markdown",
   "metadata": {},
   "source": [
    "We will do the same on `ios` dataset "
   ]
  },
  {
   "cell_type": "code",
   "execution_count": 10,
   "metadata": {
    "ExecuteTime": {
     "end_time": "2020-07-06T12:46:44.765844Z",
     "start_time": "2020-07-06T12:46:44.759859Z"
    },
    "scrolled": true
   },
   "outputs": [
    {
     "name": "stdout",
     "output_type": "stream",
     "text": [
      "Finished!\n"
     ]
    }
   ],
   "source": [
    "check_for_abnormal(dataset=ios,header=ios_header)"
   ]
  },
  {
   "cell_type": "markdown",
   "metadata": {},
   "source": [
    "#### Detecting duplicates\n",
    "Next, we check if there's any duplicates in the datasets."
   ]
  },
  {
   "cell_type": "code",
   "execution_count": 11,
   "metadata": {
    "ExecuteTime": {
     "end_time": "2020-07-06T12:46:44.775816Z",
     "start_time": "2020-07-06T12:46:44.767838Z"
    },
    "scrolled": true
   },
   "outputs": [],
   "source": [
    "def check_duplicate(dataset, index): #index of the column containing apps name\n",
    "    app_dict={}\n",
    "    for row in dataset:\n",
    "        app_name=row[index]\n",
    "        if app_name in app_dict:\n",
    "            app_dict[app_name]+=1\n",
    "        else:\n",
    "            app_dict[app_name]=1\n",
    "    result={key:value for key,value in app_dict.items() if value>1}\n",
    "    print(\"Number of duplicated apps:\",sum(result.values())-len(result))\n",
    "    if result=={}:\n",
    "        print(\"The data set doesn't have any duplicate entries\")\n",
    "    else:\n",
    "        return result"
   ]
  },
  {
   "cell_type": "markdown",
   "metadata": {},
   "source": [
    "`ios` dataset doesn't have any duplicated apps:"
   ]
  },
  {
   "cell_type": "code",
   "execution_count": 12,
   "metadata": {
    "ExecuteTime": {
     "end_time": "2020-07-06T12:46:44.785789Z",
     "start_time": "2020-07-06T12:46:44.777811Z"
    },
    "scrolled": true
   },
   "outputs": [
    {
     "name": "stdout",
     "output_type": "stream",
     "text": [
      "Number of duplicated apps: 0\n",
      "The data set doesn't have any duplicate entries\n"
     ]
    }
   ],
   "source": [
    "check_duplicate(dataset=ios,index=0)"
   ]
  },
  {
   "cell_type": "markdown",
   "metadata": {},
   "source": [
    "`android` dataset has 1181 duplicated apps:"
   ]
  },
  {
   "cell_type": "code",
   "execution_count": 13,
   "metadata": {
    "ExecuteTime": {
     "end_time": "2020-07-06T12:46:44.817705Z",
     "start_time": "2020-07-06T12:46:44.787784Z"
    },
    "scrolled": true
   },
   "outputs": [
    {
     "name": "stdout",
     "output_type": "stream",
     "text": [
      "Number of duplicated apps: 1181\n"
     ]
    },
    {
     "data": {
      "text/plain": [
       "{'Coloring book moana': 2,\n",
       " 'Mcqueen Coloring pages': 2,\n",
       " 'UNICORN - Color By Number & Pixel Art Coloring': 2,\n",
       " 'Textgram - write on photos': 2,\n",
       " 'Wattpad 📖 Free Books': 2,\n",
       " 'Amazon Kindle': 2,\n",
       " 'Dictionary - Merriam-Webster': 2,\n",
       " 'NOOK: Read eBooks & Magazines': 2,\n",
       " 'Oxford Dictionary of English : Free': 2,\n",
       " 'Spanish English Translator': 2,\n",
       " 'NOOK App for NOOK Devices': 2,\n",
       " 'Ebook Reader': 2,\n",
       " 'English Dictionary - Offline': 2,\n",
       " 'Docs To Go™ Free Office Suite': 2,\n",
       " 'Google My Business': 3,\n",
       " 'OfficeSuite : Free Office + PDF Editor': 2,\n",
       " 'Curriculum vitae App CV Builder Free Resume Maker': 2,\n",
       " 'Facebook Pages Manager': 2,\n",
       " 'Box': 3,\n",
       " 'Call Blocker': 2,\n",
       " 'ZOOM Cloud Meetings': 2,\n",
       " 'Facebook Ads Manager': 2,\n",
       " 'Quick PDF Scanner + OCR FREE': 3,\n",
       " 'SignEasy | Sign and Fill PDF and other Documents': 2,\n",
       " 'Genius Scan - PDF Scanner': 2,\n",
       " 'Tiny Scanner - PDF Scanner App': 2,\n",
       " 'Fast Scanner : Free PDF Scan': 2,\n",
       " 'Mobile Doc Scanner (MDScan) Lite': 2,\n",
       " 'TurboScan: scan documents and receipts in PDF': 2,\n",
       " 'Tiny Scanner Pro: PDF Doc Scan': 2,\n",
       " 'Zenefits': 2,\n",
       " 'Google Ads': 3,\n",
       " 'Slack': 3,\n",
       " 'FreshBooks Classic': 2,\n",
       " 'Insightly CRM': 2,\n",
       " 'QuickBooks Accounting: Invoicing & Expenses': 3,\n",
       " 'HipChat - Chat Built for Teams': 2,\n",
       " 'Xero Accounting Software': 2,\n",
       " 'MailChimp - Email, Marketing Automation': 2,\n",
       " 'Crew - Free Messaging and Scheduling': 2,\n",
       " 'Asana: organize team projects': 2,\n",
       " 'Google Analytics': 2,\n",
       " 'AdWords Express': 2,\n",
       " 'Accounting App - Zoho Books': 2,\n",
       " 'Invoice & Time Tracking - Zoho': 2,\n",
       " 'join.me - Simple Meetings': 3,\n",
       " 'Invoice 2go — Professional Invoices and Estimates': 2,\n",
       " 'LINE WEBTOON - Free Comics': 2,\n",
       " 'Daily Manga - Comic & Webtoon': 2,\n",
       " 'DC Comics': 2,\n",
       " 'Manga AZ - Manga Comic Reader': 2,\n",
       " 'Messenger – Text and Video Chat for Free': 3,\n",
       " 'WhatsApp Messenger': 3,\n",
       " 'Google Chrome: Fast & Secure': 3,\n",
       " 'Messenger Lite: Free Calls & Messages': 2,\n",
       " 'Gmail': 3,\n",
       " 'Hangouts': 4,\n",
       " 'Viber Messenger': 5,\n",
       " 'Firefox Browser fast & private': 3,\n",
       " 'Yahoo Mail – Stay Organized': 3,\n",
       " 'imo beta free calls and text': 2,\n",
       " 'imo free video calls and chat': 4,\n",
       " 'Opera Mini - fast web browser': 3,\n",
       " 'Opera Browser: Fast and Secure': 3,\n",
       " 'Firefox Focus: The privacy browser': 3,\n",
       " 'Google Voice': 3,\n",
       " 'Chrome Dev': 2,\n",
       " 'Who': 2,\n",
       " 'WeChat': 4,\n",
       " 'UC Browser Mini -Tiny Fast Private & Secure': 3,\n",
       " 'WhatsApp Business': 2,\n",
       " 'Android Messages': 2,\n",
       " 'Telegram': 3,\n",
       " 'Google Duo - High Quality Video Calls': 2,\n",
       " 'Puffin Web Browser': 3,\n",
       " 'UC Browser - Fast Download Private & Secure': 3,\n",
       " 'Microsoft Edge': 2,\n",
       " 'Hangouts Dialer - Call Phones': 2,\n",
       " 'Talkatone: Free Texts, Calls & Phone Number': 2,\n",
       " 'Calls & Text by Mo+': 2,\n",
       " 'free video calls and chat': 3,\n",
       " 'Skype - free IM & video calls': 3,\n",
       " 'Glide - Video Chat Messenger': 2,\n",
       " 'Google Allo': 3,\n",
       " 'Talkray - Free Calls & Texts': 2,\n",
       " 'LINE: Free Calls & Messages': 3,\n",
       " 'BBM - Free Calls & Messages': 2,\n",
       " 'KakaoTalk: Free Calls & Text': 3,\n",
       " 'CM Browser - Ad Blocker , Fast Download , Privacy': 2,\n",
       " 'Web Browser for Android': 2,\n",
       " 'DU Browser—Browse fast & fun': 2,\n",
       " 'CallApp: Caller ID, Blocker & Phone Call Recorder': 2,\n",
       " 'Whoscall - Caller ID & Block': 2,\n",
       " 'Truecaller: Caller ID, SMS spam blocking & Dialer': 2,\n",
       " 'Moco+ - Chat, Meet People': 2,\n",
       " 'Calculator': 2,\n",
       " 'Zoosk Dating App: Meet Singles': 2,\n",
       " 'OkCupid Dating': 3,\n",
       " 'Hily: Dating, Chat, Match, Meet & Hook up': 3,\n",
       " 'Hinge: Dating & Relationships': 2,\n",
       " 'Casual Dating & Adult Singles - Joyride': 2,\n",
       " 'BBW Dating & Plus Size Chat': 3,\n",
       " 'Moco - Chat, Meet People': 3,\n",
       " 'CMB Free Dating App': 2,\n",
       " 'Hot or Not - Find someone right now': 3,\n",
       " 'Chispa, the Dating App for Latino, Latina Singles': 2,\n",
       " 'Clover Dating App': 2,\n",
       " 'Black People Meet Singles Date': 2,\n",
       " 'stranger chat - anonymous chat': 2,\n",
       " 'Blendr - Chat, Flirt & Meet': 2,\n",
       " 'Free Dating Hook Up Messenger': 2,\n",
       " 'Find Real Love — YouLove Premium Dating': 2,\n",
       " 'Once - Quality Matches Every day': 2,\n",
       " 'Cougar Dating Life : Date Older Women Sugar Mummy': 2,\n",
       " 'Howlr': 2,\n",
       " 'Free Dating & Flirt Chat - Choice of Love': 2,\n",
       " 'FastMeet: Chat, Dating, Love': 2,\n",
       " 'Free Dating App - YoCutie - Flirt, Chat & Meet': 2,\n",
       " 'FarmersOnly Dating': 2,\n",
       " 'Dating for 50 plus Mature Singles – FINALLY': 2,\n",
       " 'Sudy – Meet Elite & Rich Single': 2,\n",
       " 'Christian Dating For Free App': 2,\n",
       " 'Just She - Top Lesbian Dating': 3,\n",
       " 'EliteSingles – Dating for Single Professionals': 2,\n",
       " 'Millionaire Match: Rich Singles Dating App': 2,\n",
       " 'Hide App, Private Dating, Safe Chat - PrivacyHider': 2,\n",
       " 'muzmatch: Muslim & Arab Singles, Marriage & Dating': 3,\n",
       " 'Adult Dirty Emojis': 3,\n",
       " 'Free Dating App - Meet Local Singles - Flirt Chat': 2,\n",
       " 'Meet4U - Chat, Love, Singles!': 2,\n",
       " 'Chat Rooms, Avatars, Date - Galaxy': 2,\n",
       " 'Gay Sugar Daddy Dating & Hookup – Sudy Gay': 2,\n",
       " 'Meet24 - Love, Chat, Singles': 2,\n",
       " 'Black White Interracial Dating - Interracial Match': 2,\n",
       " 'FlirtChat - ♥Free Dating/Flirting App♥': 2,\n",
       " '95Live -SG#1 Live Streaming App': 2,\n",
       " 'BBW Dating & Curvy Singles Chat- LargeFriends': 2,\n",
       " 'iPair-Meet, Chat, Dating': 2,\n",
       " 'Transenger – Ts Dating and Chat for Free': 2,\n",
       " 'O-Star': 3,\n",
       " 'Free Cam Girls - Live Webcam': 2,\n",
       " 'Cardi B Live Stream Video Chat - Prank': 2,\n",
       " 'Live Girls Talk - Free Video Chat': 2,\n",
       " 'Live Talk - Free Text and Video Chat': 2,\n",
       " 'Chat Kids - Chat Room For Kids': 2,\n",
       " 'Girls Live Chat - Free Text & Video Chat': 2,\n",
       " 'Random Video Chat': 2,\n",
       " 'MouseMingle': 2,\n",
       " 'Random Video Chat App With Strangers': 2,\n",
       " 'Duolingo: Learn Languages Free': 7,\n",
       " 'TED': 4,\n",
       " 'Khan Academy': 3,\n",
       " 'Learn English with Wlingua': 2,\n",
       " 'Princess Coloring Book': 2,\n",
       " 'English Grammar Test': 2,\n",
       " 'PBS KIDS Video': 2,\n",
       " 'Babbel – Learn Languages': 4,\n",
       " 'Monster Truck Driver & Racing': 2,\n",
       " \"Game for KIDS: KIDS match'em\": 2,\n",
       " 'Lumosity: #1 Brain Games & Cognitive Training App': 2,\n",
       " 'Learn languages, grammar & vocabulary with Memrise': 4,\n",
       " 'Quizlet: Learn Languages & Vocab with Flashcards': 4,\n",
       " 'Udemy - Online Courses': 3,\n",
       " 'Coursera: Online courses': 2,\n",
       " 'edX - Online Courses by Harvard, MIT & more': 2,\n",
       " 'Peak – Brain Games & Training': 2,\n",
       " 'Lynda - Online Training Videos': 2,\n",
       " 'Brilliant': 2,\n",
       " 'CppDroid - C/C++ IDE': 2,\n",
       " 'C Programming': 2,\n",
       " 'Udacity - Lifelong Learning': 2,\n",
       " 'Learn C++': 2,\n",
       " 'Socratic - Math Answers & Homework Help': 2,\n",
       " 'Rosetta Stone: Learn to Speak & Read New Languages': 4,\n",
       " 'Google Classroom': 3,\n",
       " 'Learn 50 languages': 2,\n",
       " 'Mango Languages: Lovable Language Courses': 2,\n",
       " 'busuu: Learn Languages - Spanish, English & More': 4,\n",
       " 'My Class Schedule: Timetable': 2,\n",
       " 'Edmodo': 2,\n",
       " 'ClassDojo': 3,\n",
       " 'HelloTalk — Chat, Speak & Learn Foreign Languages': 2,\n",
       " 'Fuzzy Numbers: Pre-K Number Foundation': 2,\n",
       " 'Toca Life: City': 2,\n",
       " 'Netflix': 5,\n",
       " 'Tubi TV - Free Movies & TV': 3,\n",
       " 'YouTube Kids': 4,\n",
       " 'Google Play Games': 2,\n",
       " 'H TV': 2,\n",
       " 'Viki: Asian TV Dramas & Movies': 3,\n",
       " 'No.Draw - Colors by Number 2018': 2,\n",
       " 'Movies by Flixster, with Rotten Tomatoes': 3,\n",
       " 'IMDb Movies & TV': 3,\n",
       " 'Twitch: Livestream Multiplayer Games & Esports': 2,\n",
       " 'YouTube Gaming': 2,\n",
       " 'Talking Ben the Dog': 2,\n",
       " 'Red Bull TV: Live Sports, Music & Entertainment': 2,\n",
       " 'Fandango Movies - Times + Tickets': 2,\n",
       " 'Food Network': 3,\n",
       " 'Crunchyroll - Everything Anime': 3,\n",
       " 'Crackle - Free TV & Movies': 3,\n",
       " 'CBS - Full Episodes & Live TV': 2,\n",
       " 'STARZ': 3,\n",
       " 'HISTORY: Watch TV Show Full Episodes & Specials': 3,\n",
       " 'Nick': 6,\n",
       " 'VH1': 3,\n",
       " 'FOX NOW - On Demand & Live TV': 3,\n",
       " 'A&E - Watch Full Episodes of TV Shows': 4,\n",
       " 'The CW': 4,\n",
       " 'BET NOW - Watch Shows': 3,\n",
       " 'Hulu: Stream TV, Movies & more': 4,\n",
       " 'HBO NOW: Stream TV & Movies': 4,\n",
       " 'Univision NOW - Live TV and On Demand': 2,\n",
       " 'SHOWTIME': 2,\n",
       " 'Lifetime - Watch Full Episodes & Original Movies': 3,\n",
       " 'Comedy Central': 2,\n",
       " 'CW Seed': 2,\n",
       " 'The NBC App - Watch Live TV and Full Episodes': 2,\n",
       " 'WWE': 2,\n",
       " 'MTV': 2,\n",
       " 'LEGO® TV': 2,\n",
       " 'HBO GO: Stream with TV Package': 2,\n",
       " 'Showtime Anytime': 2,\n",
       " 'PlayKids - Educational cartoons and games for kids': 2,\n",
       " 'FOX': 2,\n",
       " 'Telemundo Now': 2,\n",
       " 'Colorfy: Coloring Book for Adults - Free': 2,\n",
       " 'K PLUS': 2,\n",
       " 'Wells Fargo Mobile': 2,\n",
       " 'Credit Karma': 3,\n",
       " 'BZWBK24 mobile': 2,\n",
       " 'PayPal': 2,\n",
       " 'Capital One® Mobile': 2,\n",
       " 'Google Pay': 4,\n",
       " 'Robinhood - Investing, No Fees': 2,\n",
       " 'Wells Fargo Daily Change': 2,\n",
       " 'Digit Save Money Automatically': 2,\n",
       " 'Acorns - Invest Spare Change': 2,\n",
       " 'Money Lover: Expense Tracker, Budget Planner': 2,\n",
       " 'Simple - Better Banking': 2,\n",
       " 'Mint: Budget, Bills, Finance': 3,\n",
       " 'CNBC: Breaking Business News & Live Market Data': 2,\n",
       " 'E*TRADE Mobile': 2,\n",
       " 'Moneycontrol – Stocks, Sensex, Mutual Funds, IPO': 2,\n",
       " \"McDonald's\": 2,\n",
       " \"Dunkin' Donuts\": 2,\n",
       " 'Grubhub: Food Delivery': 2,\n",
       " 'Panera Bread': 2,\n",
       " 'Chick-fil-A': 3,\n",
       " 'Starbucks': 2,\n",
       " \"Domino's Pizza USA\": 2,\n",
       " 'SONIC Drive-In': 2,\n",
       " 'SUBWAY®': 2,\n",
       " 'Dairy Queen': 2,\n",
       " 'Wendy’s – Food and Offers': 2,\n",
       " 'Postmates Food Delivery: Order Eats & Alcohol': 2,\n",
       " 'Zomato - Restaurant Finder and Food Delivery App': 2,\n",
       " 'BeyondMenu Food Delivery': 2,\n",
       " 'Home Workout - No Equipment': 2,\n",
       " 'Six Pack in 30 Days - Abs Workout': 2,\n",
       " 'Walk with Map My Walk': 2,\n",
       " 'Runtastic Running App & Mile Tracker': 3,\n",
       " 'Nike+ Run Club': 4,\n",
       " 'Calorie Counter - MyFitnessPal': 5,\n",
       " 'Weight Watchers Mobile': 3,\n",
       " 'Endomondo - Running & Walking': 2,\n",
       " 'Runkeeper - GPS Track Run Walk': 2,\n",
       " '8fit Workouts & Meal Planner': 2,\n",
       " 'Run with Map My Run': 3,\n",
       " 'Weight Loss Running by Verv': 3,\n",
       " 'Workout Trainer: fitness coach': 2,\n",
       " 'Fabulous: Motivate Me! Meditate, Relax, Sleep': 2,\n",
       " 'Nike Training Club - Workouts & Fitness Plans': 3,\n",
       " 'Fitbit Coach': 2,\n",
       " 'Seven - 7 Minute Workout Training Challenge': 2,\n",
       " 'Daily Yoga - Yoga Fitness Plans': 3,\n",
       " 'Pocket Yoga': 2,\n",
       " 'Relax Meditation: Sleep with Sleep Sounds': 2,\n",
       " 'Meditation Music - Relax, Yoga': 2,\n",
       " '21-Day Meditation Experience': 2,\n",
       " 'Calm - Meditate, Sleep, Relax': 2,\n",
       " 'Relax Melodies: Sleep Sounds': 2,\n",
       " 'Simple Habit Meditation': 2,\n",
       " 'Headspace: Meditation & Mindfulness': 2,\n",
       " 'I’m Expecting - Pregnancy App': 2,\n",
       " 'Period Tracker': 2,\n",
       " 'Lose It! - Calorie Counter': 3,\n",
       " 'Calorie Counter - MyNetDiary': 2,\n",
       " '10 Best Foods for You': 2,\n",
       " 'MyPlate Calorie Tracker': 2,\n",
       " 'My Diet Diary Calorie Counter': 2,\n",
       " 'Calorie Counter - Macros': 2,\n",
       " 'Calorie Counter by FatSecret': 2,\n",
       " 'Weight Loss Tracker - RecStyle': 2,\n",
       " 'Lark - 24/7 Health Coach': 2,\n",
       " 'MealLogger-Photo Food Journal': 2,\n",
       " 'Health and Nutrition Guide': 2,\n",
       " 'Calorie Counter & Diet Tracker': 2,\n",
       " 'Food Calorie Calculator': 2,\n",
       " 'Runtastic Sleep Better: Sleep Cycle & Smart Alarm': 2,\n",
       " 'Zillow: Find Houses for Sale & Apartments for Rent': 2,\n",
       " 'Apartments & Rentals - Zillow': 2,\n",
       " 'Realtor.com Real Estate: Homes for Sale and Rent': 2,\n",
       " 'Trulia Real Estate & Rentals': 2,\n",
       " 'Houzz Interior Design Ideas': 4,\n",
       " 'Apartment List: Housing, Apt, and Property Rentals': 2,\n",
       " 'Trulia Rent Apartments & Homes': 2,\n",
       " 'Redfin Real Estate': 2,\n",
       " 'realestate.com.au - Buy, Rent & Sell Property': 2,\n",
       " 'Mortgage by Zillow: Calculator & Rates': 2,\n",
       " 'Home Security Camera WardenCam - reuse old phones': 2,\n",
       " 'Apartments.com Rental Search': 2,\n",
       " 'Ruler': 2,\n",
       " 'Cardboard': 2,\n",
       " 'Diary with lock': 2,\n",
       " 'H&M': 2,\n",
       " 'JOANN - Crafts & Coupons': 2,\n",
       " 'Vaniday - Beauty Booking App': 2,\n",
       " 'Fashion in Vogue': 3,\n",
       " 'StyleSeat': 2,\n",
       " 'Brit + Co': 2,\n",
       " 'Wheretoget: Shop in style': 2,\n",
       " 'My Dressing - Fashion closet': 2,\n",
       " 'Chictopia': 2,\n",
       " 'Scarf Fashion Designer': 2,\n",
       " 'Zara': 2,\n",
       " 'ROBLOX': 9,\n",
       " 'Subway Surfers': 6,\n",
       " 'Candy Crush Saga': 7,\n",
       " 'Solitaire': 3,\n",
       " 'Bubble Shooter': 6,\n",
       " 'Hello Kitty Nail Salon': 2,\n",
       " 'slither.io': 6,\n",
       " 'Clash Royale': 4,\n",
       " 'Temple Run 2': 6,\n",
       " 'Pou': 4,\n",
       " 'Helix Jump': 6,\n",
       " 'Block Puzzle': 4,\n",
       " 'Angry Birds Rio': 4,\n",
       " 'Plants vs. Zombies FREE': 5,\n",
       " 'Sonic Dash': 2,\n",
       " 'Candy Crush Soda Saga': 3,\n",
       " 'Zombie Hunter King': 4,\n",
       " 'Clash of Clans': 4,\n",
       " 'Kick the Buddy': 4,\n",
       " 'Block Puzzle Classic Legend !': 2,\n",
       " 'PAC-MAN': 2,\n",
       " 'Super Jim Jump - pixel 3d': 3,\n",
       " '8 Ball Pool': 7,\n",
       " 'Magic Tiles 3': 4,\n",
       " 'Word Search': 4,\n",
       " 'Granny': 5,\n",
       " 'Angry Birds Classic': 5,\n",
       " 'Flow Free': 5,\n",
       " 'Fishdom': 3,\n",
       " 'Galaxy Attack: Alien Shooter': 3,\n",
       " 'Zombie Tsunami': 5,\n",
       " 'Bubble Shooter 2': 2,\n",
       " 'Barbie™ Fashion Closet': 2,\n",
       " 'Candy Crush Jelly Saga': 2,\n",
       " 'Hill Climb Racing': 4,\n",
       " 'Gardenscapes': 2,\n",
       " 'Zombie Catchers': 6,\n",
       " 'Minion Rush: Despicable Me Official Game': 4,\n",
       " 'Farm Heroes Saga': 5,\n",
       " 'Geometry Dash World': 2,\n",
       " 'My Talking Angela': 4,\n",
       " 'Cut the Rope FULL FREE': 3,\n",
       " 'Sniper 3D Gun Shooter: Free Shooting Games - FPS': 6,\n",
       " 'Cooking Fever': 2,\n",
       " 'Toon Blast': 3,\n",
       " 'Score! Hero': 3,\n",
       " 'Toy Blast': 2,\n",
       " 'Miraculous Ladybug & Cat Noir - The Official Game': 3,\n",
       " 'Wordscapes': 4,\n",
       " 'Garena Free Fire': 4,\n",
       " 'Bowmasters': 6,\n",
       " 'My Talking Tom': 3,\n",
       " 'Rider': 2,\n",
       " 'Talking Tom Gold Run': 4,\n",
       " 'Pixel Art: Color by Number Game': 3,\n",
       " 'Dream League Soccer 2018': 3,\n",
       " 'Fruits Bomb': 2,\n",
       " 'Traffic Racer': 2,\n",
       " 'Hill Climb Racing 2': 2,\n",
       " 'Knife Hit': 2,\n",
       " 'Block Craft 3D: Building Simulator Games For Free': 3,\n",
       " 'Love Balls': 2,\n",
       " 'Hungry Shark Evolution': 3,\n",
       " 'Pokémon GO': 2,\n",
       " 'Color by Number – New Coloring Book': 2,\n",
       " 'PUBG MOBILE': 4,\n",
       " 'Episode - Choose Your Story': 2,\n",
       " 'Run Sausage Run!': 2,\n",
       " 'Castle Clash: Heroes of the Empire US': 2,\n",
       " 'Last Day on Earth: Survival': 2,\n",
       " 'MARVEL Strike Force': 3,\n",
       " 'Harry Potter: Hogwarts Mystery': 2,\n",
       " 'DRAGON BALL LEGENDS': 4,\n",
       " 'Homescapes': 2,\n",
       " 'Merge Dragons!': 2,\n",
       " 'RULES OF SURVIVAL': 2,\n",
       " 'Final Fantasy XV: A New Empire': 2,\n",
       " 'Honkai Impact 3rd': 2,\n",
       " 'The Game of Life': 2,\n",
       " 'Angry Birds 2': 2,\n",
       " 'Fallout Shelter': 2,\n",
       " 'The Sims™ FreePlay': 2,\n",
       " 'Best Fiends - Free Puzzle Game': 2,\n",
       " 'MARVEL Contest of Champions': 2,\n",
       " 'Jurassic World™ Alive': 2,\n",
       " 'Choices: Stories You Play': 2,\n",
       " 'Idle Heroes': 2,\n",
       " 'Dungeon Hunter Champions: Epic Online Action RPG': 2,\n",
       " 'Jewels Star: OZ adventure': 2,\n",
       " 'Crossy Road': 2,\n",
       " 'Swamp Attack': 2,\n",
       " 'Earn to Die 2': 2,\n",
       " 'Hungry Shark World': 2,\n",
       " 'Dude Perfect 2': 2,\n",
       " 'Shadow Fight 2': 2,\n",
       " \"Alto's Adventure\": 2,\n",
       " 'DEER HUNTER 2018': 2,\n",
       " 'DEAD TARGET: FPS Zombie Apocalypse Survival Games': 2,\n",
       " 'Anger of stick 5 : zombie': 2,\n",
       " 'DINO HUNTER: DEADLY SHORES': 2,\n",
       " 'Strawberry Shortcake BerryRush': 3,\n",
       " 'Agar.io': 2,\n",
       " 'DC Super Hero Girls™': 4,\n",
       " 'Metal Soldiers 2': 2,\n",
       " 'Candy Bomb': 2,\n",
       " 'Jetpack Joyride': 2,\n",
       " 'Racing in Car 2': 2,\n",
       " 'Dog Run - Pet Dog Simulator': 3,\n",
       " 'Super ABC! Learning games for kids! Preschool apps': 2,\n",
       " 'Baby Panda Care': 2,\n",
       " 'Toca Kitchen 2': 3,\n",
       " 'PJ Masks: Moonlight Heroes': 3,\n",
       " 'Farming Simulator 14': 2,\n",
       " 'Hot Wheels: Race Off': 2,\n",
       " 'Strawberry Shortcake Ice Cream Island': 2,\n",
       " 'DisneyNOW – TV Shows & Games': 3,\n",
       " 'Papumba Academy - Fun Learning For Kids': 3,\n",
       " 'Thomas & Friends: Race On!': 2,\n",
       " 'School of Dragons': 2,\n",
       " 'LEGO® Juniors Create & Cruise': 2,\n",
       " 'Plants vs. Zombies™ Heroes': 2,\n",
       " 'Disney Magic Kingdoms: Build Your Own Magical Park': 2,\n",
       " 'Turbo FAST': 2,\n",
       " 'My Little Pony: Harmony Quest': 2,\n",
       " 'Equestria Girls': 3,\n",
       " 'Inside Out Thought Bubbles': 2,\n",
       " 'Monster High™': 2,\n",
       " 'Frozen Free Fall': 3,\n",
       " 'Shopkins World!': 2,\n",
       " 'Masha and the Bear Child Games': 2,\n",
       " 'Chess Free': 2,\n",
       " 'Kids Balloon Pop Game Free 🎈': 2,\n",
       " 'Sounds for Toddlers FREE': 2,\n",
       " 'Elmo Calls by Sesame Street': 3,\n",
       " 'Sago Mini Friends': 3,\n",
       " 'Tee and Mo Bath Time Free': 2,\n",
       " 'Bita and the Animals - Pelos Ares': 2,\n",
       " 'TO-FU Oh!SUSHI': 2,\n",
       " 'DreamWorks Friends': 2,\n",
       " 'Avokiddo Emotions': 2,\n",
       " 'Nighty Night Circus': 2,\n",
       " 'Sago Mini Babies': 2,\n",
       " \"Dr. Panda & Toto's Treehouse\": 3,\n",
       " 'Fun Kid Racing - Motocross': 2,\n",
       " \"COOKING MAMA Let's Cook!\": 2,\n",
       " 'My Little Pony Celebration': 2,\n",
       " 'Animal Jam - Play Wild!': 2,\n",
       " 'Video Editor': 3,\n",
       " 'Real Racing 3': 2,\n",
       " 'Minecraft': 2,\n",
       " 'Monash Uni Low FODMAP Diet': 2,\n",
       " 'iBP Blood Pressure': 2,\n",
       " 'Pedi STAT': 2,\n",
       " 'ASCCP Mobile': 2,\n",
       " 'Journal Club: Medicine': 2,\n",
       " 'Paramedic Protocol Provider': 2,\n",
       " 'Medical ID - In Case of Emergency (ICE)': 2,\n",
       " 'Human Anatomy Atlas 2018: Complete 3D Human Body': 3,\n",
       " 'Essential Anatomy 3': 2,\n",
       " 'Vargo Anesthesia Mega App': 2,\n",
       " 'EMT Review Plus': 2,\n",
       " '2017 EMRA Antibiotic Guide': 2,\n",
       " 'IBM Micromedex Drug Info': 2,\n",
       " 'Diabetes & Diet Tracker': 2,\n",
       " 'Block Buddy': 2,\n",
       " 'EMT PASS': 2,\n",
       " 'Cardiac diagnosis (heart rate, arrhythmia)': 3,\n",
       " 'AnatomyMapp': 2,\n",
       " 'Blood Pressure Companion': 2,\n",
       " 'Muscle Premium - Human Anatomy, Kinesiology, Bones': 2,\n",
       " 'Advanced Comprehension Therapy': 2,\n",
       " 'EMT Tutor NREMT-B Study Guide': 2,\n",
       " 'Hospitalist Handbook': 2,\n",
       " 'PTA Content Master': 2,\n",
       " 'A Manual of Acupuncture': 2,\n",
       " 'Teladoc Member': 2,\n",
       " 'Blood Pressure': 3,\n",
       " 'Ovia Fertility Tracker & Ovulation Calculator': 2,\n",
       " 'Anthem Anywhere': 2,\n",
       " 'Youper - AI Therapy': 3,\n",
       " '1800 Contacts - Lens Store': 2,\n",
       " 'Blood Pressure Log - MyDiary': 2,\n",
       " \"fred's Pharmacy\": 2,\n",
       " 'Ada - Your Health Guide': 2,\n",
       " 'mySugr: the blood sugar tracker made just for you': 3,\n",
       " 'All Mental disorders': 2,\n",
       " 'ScriptSave WellRx Rx Discounts': 2,\n",
       " 'MoodSpace': 2,\n",
       " 'Super Hearing Super Ear Amplifier': 2,\n",
       " 'Free Blood Pressure': 3,\n",
       " 'Banfield Pet Health Tracker': 2,\n",
       " 'Nurse Grid': 2,\n",
       " 'EMT-B Pocket Prep': 2,\n",
       " 'Diabetes:M': 2,\n",
       " 'FP Notebook': 2,\n",
       " 'PMHNP-BC Pocket Prep': 2,\n",
       " 'JH Blood Pressure Monitor': 2,\n",
       " 'Sway Medical': 2,\n",
       " 'Penn State Health OnDemand': 2,\n",
       " 'Breastfeeding Tracker Baby Log': 2,\n",
       " 'RT 516 VET': 2,\n",
       " 'Maricopa AH': 2,\n",
       " 'CT Scan Cross Sectional Anatomy': 2,\n",
       " 'Anthem BC Anywhere': 2,\n",
       " 'High Blood Pressure Symptoms': 2,\n",
       " 'Blood Pressure(BP) Diary': 2,\n",
       " 'AAFP': 2,\n",
       " 'Airway Ex - Intubate. Anesthetize. Train.': 2,\n",
       " '420 BZ Budeze Delivery': 2,\n",
       " 'Blood Pressure Monitor': 2,\n",
       " 'BP Journal - Blood Pressure Diary': 2,\n",
       " 'Facebook': 2,\n",
       " 'Instagram': 4,\n",
       " 'Facebook Lite': 2,\n",
       " 'Messages, Text and Video Chat for Messenger': 2,\n",
       " 'Tumblr': 3,\n",
       " 'All Social Networks': 2,\n",
       " 'Snapchat': 4,\n",
       " 'Pinterest': 3,\n",
       " 'TextNow - free text + calls': 2,\n",
       " 'Google+': 2,\n",
       " 'Telegram X': 2,\n",
       " 'Who Viewed My Facebook Profile - Stalkers Visitors': 2,\n",
       " 'LiveMe - Video chat, new friends, and make money': 2,\n",
       " 'Amino: Communities and Chats': 2,\n",
       " 'Phone Tracker : Family Locator': 2,\n",
       " 'Periscope - Live Video': 3,\n",
       " 'Quora': 2,\n",
       " 'LinkedIn': 2,\n",
       " 'Meetup': 4,\n",
       " 'Text Free: WiFi Calling App': 3,\n",
       " 'Badoo - Free Chat & Dating App': 4,\n",
       " 'Text free - Free Text + Call': 2,\n",
       " 'textPlus: Free Text & Calls': 2,\n",
       " 'Free phone calls, free texting SMS on free number': 2,\n",
       " 'Tango - Live Video Broadcast': 2,\n",
       " 'MeetMe: Chat & Meet New People': 5,\n",
       " 'Tagged - Meet, Chat & Dating': 2,\n",
       " 'ooVoo Video Calls, Messaging & Stories': 2,\n",
       " 'SayHi Chat, Meet New People': 3,\n",
       " 'Tapatalk - 100,000+ Forums': 2,\n",
       " 'Nextdoor - Local neighborhood news & classifieds': 2,\n",
       " 'SKOUT - Meet, Chat, Go Live': 2,\n",
       " 'We Heart It': 2,\n",
       " 'Couple - Relationship App': 2,\n",
       " 'POF Free Dating App': 3,\n",
       " 'LOVOO': 2,\n",
       " 'Jaumo Dating, Flirt & Live Video': 2,\n",
       " 'Zello PTT Walkie Talkie': 2,\n",
       " 'Dating App, Flirt & Chat : W-Match': 2,\n",
       " 'Amazon for Tablets': 2,\n",
       " 'Wish - Shopping Made Fun': 5,\n",
       " 'AliExpress - Smarter Shopping, Better Living': 4,\n",
       " 'Walmart': 2,\n",
       " 'eBay: Buy & Sell this Summer - Discover Deals Now!': 5,\n",
       " 'letgo: Buy & Sell Used Stuff, Cars & Real Estate': 2,\n",
       " 'Amazon Shopping': 3,\n",
       " 'Flipp - Weekly Shopping': 2,\n",
       " 'CJmall': 2,\n",
       " 'Carousell: Snap-Sell, Chat-Buy': 2,\n",
       " 'ZALORA Fashion Shopping': 2,\n",
       " 'Target - now with Cartwheel': 3,\n",
       " 'Flipkart Online Shopping App': 2,\n",
       " 'Extreme Coupon Finder': 3,\n",
       " 'SnipSnap Coupon App': 2,\n",
       " 'Checkout 51: Grocery coupons': 3,\n",
       " 'Gyft - Mobile Gift Card Wallet': 3,\n",
       " 'The Coupons App': 4,\n",
       " 'Shopkick: Free Gift Cards, Shop Rewards & Deals': 2,\n",
       " 'Ibotta: Cash Back Savings, Rewards & Coupons App': 2,\n",
       " 'RetailMeNot - Coupons, Deals & Discount Shopping': 3,\n",
       " 'Groupon - Shop Deals, Discounts & Coupons': 4,\n",
       " 'Stocard - Rewards Cards Wallet': 2,\n",
       " 'Poshmark - Buy & Sell Fashion': 2,\n",
       " 'Shopular: Coupons, Weekly Ads & Shopping Deals': 2,\n",
       " 'LivingSocial - Local Deals': 3,\n",
       " \"Modcloth – Unique Indie Women's Fashion & Style\": 2,\n",
       " 'Fancy': 3,\n",
       " \"JackThreads: Men's Shopping\": 3,\n",
       " 'Zappos – Shoe shopping made simple': 2,\n",
       " 'Slickdeals: Coupons & Shopping': 3,\n",
       " 'Wanelo Shopping': 2,\n",
       " 'Etsy: Handmade & Vintage Goods': 2,\n",
       " 'ASOS': 2,\n",
       " 'Overstock – Home Decor, Furniture Shopping': 2,\n",
       " 'Newegg Mobile': 2,\n",
       " 'Shutterfly: Free Prints, Photo Books, Cards, Gifts': 4,\n",
       " 'Google Photos': 4,\n",
       " 'Face Filter, Selfie Editor - Sweet Camera': 2,\n",
       " 'Adobe Photoshop Express:Photo Editor Collage Maker': 2,\n",
       " 'B612 - Beauty & Filter Camera': 3,\n",
       " 'InstaBeauty -Makeup Selfie Cam': 2,\n",
       " 'Camera360 Lite - Selfie Camera': 2,\n",
       " 'YouCam Makeup - Magic Selfie Makeovers': 2,\n",
       " 'BeautyPlus - Easy Photo Editor & Selfie Camera': 5,\n",
       " 'My Photo Keyboard': 2,\n",
       " 'YouCam Perfect - Selfie Photo Editor': 3,\n",
       " 'Open Camera': 3,\n",
       " 'Muzy - Share photos & collages': 2,\n",
       " 'QuickPic - Photo Gallery with Google Drive Support': 3,\n",
       " 'Flickr': 2,\n",
       " 'Camera for Android': 3,\n",
       " 'Photo Editor Selfie Camera Filter & Mirror Image': 2,\n",
       " 'Photo Editor-': 2,\n",
       " 'Cymera Camera- Photo Editor, Filter,Collage,Layout': 4,\n",
       " 'LINE Camera - Photo editor': 2,\n",
       " 'InstaSize Photo Filters & Collage Editor': 2,\n",
       " 'Candy Camera - selfie, beauty camera, photo editor': 3,\n",
       " 'Photo Editor': 2,\n",
       " 'Phogy, 3D Camera': 2,\n",
       " 'Camera360: Selfie Photo Editor with Funny Sticker': 3,\n",
       " 'Blur Image Background': 2,\n",
       " 'Facetune - For Free': 3,\n",
       " 'Camera FV-5 Lite': 2,\n",
       " 'HD Camera for Android': 2,\n",
       " 'Photo Editor Pro': 2,\n",
       " 'Camera MX - Free Photo & Video Camera': 2,\n",
       " 'Camera FV-5': 2,\n",
       " 'No Crop & Square for Instagram': 2,\n",
       " 'FilterGrid - Cam&Photo Editor': 2,\n",
       " 'Photo Editor by Aviary': 2,\n",
       " 'PicsArt Photo Studio: Collage Maker & Pic Editor': 2,\n",
       " 'Z Camera - Photo Editor, Beauty Selfie, Collage': 2,\n",
       " 'ESPN': 7,\n",
       " 'MLB At Bat': 5,\n",
       " 'NFL': 3,\n",
       " 'theScore: Live Sports Scores, News, Stats & Videos': 5,\n",
       " 'FIFA - Tournaments, Soccer News & Live Scores': 2,\n",
       " 'FotMob - Live Soccer Scores': 2,\n",
       " 'Yahoo Fantasy Sports - #1 Rated Fantasy App': 5,\n",
       " 'CBS Sports App - Scores, News, Stats & Watch Live': 8,\n",
       " 'BBC Sport': 2,\n",
       " 'All Football - Latest News & Videos': 2,\n",
       " 'Premier League - Official App': 2,\n",
       " 'ESPN Fantasy Sports': 4,\n",
       " 'Bleacher Report: sports news, scores, & highlights': 6,\n",
       " 'The 5th Stand': 2,\n",
       " 'MLB Ballpark': 2,\n",
       " 'Hole19: Golf GPS App, Rangefinder & Scorecard': 2,\n",
       " 'WatchESPN': 4,\n",
       " 'CBS Sports Fantasy': 2,\n",
       " 'UFC': 2,\n",
       " 'Golfshot: Golf GPS + Tee Times': 2,\n",
       " 'PGA TOUR': 2,\n",
       " 'Fantasy Football': 2,\n",
       " 'US Open Tennis Championships 2018': 2,\n",
       " 'Yahoo Sports - scores, stats, news, & highlights': 3,\n",
       " 'FOX Sports: Live Streaming, Scores & News': 2,\n",
       " '365Scores - Live Scores': 2,\n",
       " 'Cricbuzz - Live Cricket Scores & News': 2,\n",
       " 'Expedia Hotels, Flights & Car Rental Travel Deals': 4,\n",
       " 'trivago: Hotels & Travel': 3,\n",
       " 'Hopper - Watch & Book Flights': 2,\n",
       " 'KAYAK Flights, Hotels & Cars': 3,\n",
       " 'Skyscanner': 5,\n",
       " 'Hotels.com: Book Hotel Rooms & Find Vacation Deals': 2,\n",
       " 'Booking.com Travel Deals': 3,\n",
       " 'Hostelworld: Hostels & Cheap Hotels Travel App': 2,\n",
       " 'TripAdvisor Hotels Flights Restaurants Attractions': 5,\n",
       " 'Airbnb': 2,\n",
       " 'Maps - Navigate & Explore': 3,\n",
       " 'Offline Maps & Navigation': 2,\n",
       " 'Google Earth': 2,\n",
       " 'Southwest Airlines': 2,\n",
       " 'Google Street View': 2,\n",
       " 'Fly Delta': 2,\n",
       " 'Priceline Hotel Deals, Rental Cars & Flights': 3,\n",
       " 'American Airlines': 3,\n",
       " 'United Airlines': 2,\n",
       " 'British Airways': 2,\n",
       " 'The Emirates App': 2,\n",
       " 'Cheapflights – Flight Search': 2,\n",
       " 'Orbitz - Hotels, Flights & Package Deals': 2,\n",
       " 'HotelTonight: Book amazing deals at great hotels': 3,\n",
       " 'Moto File Manager': 2,\n",
       " 'Google': 2,\n",
       " 'Google Translate': 2,\n",
       " 'Cache Cleaner-DU Speed Booster (booster & cleaner)': 2,\n",
       " 'SHAREit - Transfer & Share': 2,\n",
       " 'Gboard - the Google Keyboard': 3,\n",
       " 'Share Music & Transfer Files - Xender': 2,\n",
       " 'Flashlight': 2,\n",
       " 'CM Flashlight (Compass, SOS)': 2,\n",
       " 'Mobi Calculator free & AD free!': 2,\n",
       " 'VPN Free - Betternet Hotspot VPN & Private Browser': 2,\n",
       " 'osmino Wi-Fi: free WiFi': 2,\n",
       " 'CM Locker - Security Lockscreen': 2,\n",
       " 'Nova Launcher': 2,\n",
       " 'ZEDGE™ Ringtones & Wallpapers': 4,\n",
       " 'CM Launcher 3D - Theme, Wallpapers, Efficient': 2,\n",
       " 'Smart Launcher 5': 2,\n",
       " 'Apex Launcher': 3,\n",
       " 'Yandex Browser with Protect': 2,\n",
       " 'Ringtone Maker': 2,\n",
       " 'Beautiful Widgets Pro': 2,\n",
       " 'Beautiful Widgets Free': 2,\n",
       " 'HD Widgets': 2,\n",
       " 'Backgrounds HD (Wallpapers)': 2,\n",
       " 'ai.type Free Emoji Keyboard': 2,\n",
       " 'GO Keyboard - Emoticon keyboard, Free Theme, GIF': 2,\n",
       " 'Microsoft Word': 3,\n",
       " 'Adobe Acrobat Reader': 3,\n",
       " 'Google Drive': 4,\n",
       " 'QR Scanner & Barcode Scanner 2018': 2,\n",
       " 'Chrome Beta': 2,\n",
       " 'Microsoft Outlook': 2,\n",
       " 'Google PDF Viewer': 3,\n",
       " 'Microsoft Excel': 2,\n",
       " 'Microsoft OneDrive': 2,\n",
       " 'Microsoft OneNote': 3,\n",
       " 'Google Keep': 4,\n",
       " 'ES File Explorer File Manager': 3,\n",
       " 'Dropbox': 3,\n",
       " 'Google Calendar': 3,\n",
       " 'Google Docs': 3,\n",
       " 'Evernote – Organizer, Planner for Notes & Memos': 4,\n",
       " 'Microsoft PowerPoint': 2,\n",
       " 'Do It Later: Tasks & To-Dos': 2,\n",
       " 'myAT&T': 2,\n",
       " 'MEGA': 2,\n",
       " 'TickTick: To Do List with Reminder, Day Planner': 2,\n",
       " 'Wunderlist: To-Do List & Tasks': 3,\n",
       " 'Planner Pro-Personal Organizer': 2,\n",
       " 'Todoist: To-do lists for task management & errands': 3,\n",
       " 'Any.do: To-do list, Calendar, Reminders & Planner': 3,\n",
       " 'CM FILE MANAGER HD': 2,\n",
       " 'Google Sheets': 2,\n",
       " 'Polaris Office - Word, Docs, Sheets, Slide, PDF': 2,\n",
       " 'WPS Office - Word, Docs, PDF, Note, Slide & Sheet': 2,\n",
       " 'ColorNote Notepad Notes': 2,\n",
       " 'Notepad & To do list': 2,\n",
       " 'To-Do Calendar Planner': 2,\n",
       " 'G Cloud Backup': 2,\n",
       " 'AccuWeather: Daily Forecast & Live Weather Reports': 2,\n",
       " 'wetter.com - Weather and Radar': 2,\n",
       " 'Weather by eltiempo.es': 2,\n",
       " 'YouTube': 2,\n",
       " 'Video Downloader': 2,\n",
       " 'Motorola FM Radio': 2,\n",
       " 'Video Player All Format': 2,\n",
       " 'VLC for Android': 2,\n",
       " 'YouTube Studio': 2,\n",
       " 'Vigo Video': 2,\n",
       " 'PowerDirector Video Editor App: 4K, Slow Mo & More': 2,\n",
       " 'Cartoon Network App': 2,\n",
       " 'MX Player': 3,\n",
       " 'Fox News – Breaking News, Live Video & News Alerts': 3,\n",
       " 'BBC News': 3,\n",
       " 'CNN Breaking US & World News': 3,\n",
       " 'Google News': 4,\n",
       " 'Topbuzz: Breaking News, Videos & Funny GIFs': 2,\n",
       " 'Twitter': 3,\n",
       " 'Flipboard: News For Our Time': 3,\n",
       " 'Podcast App: Free & Offline Podcasts by Player FM': 2,\n",
       " 'BuzzFeed: News, Tasty, Quizzes': 2,\n",
       " 'USA TODAY': 3,\n",
       " 'The Wall Street Journal: Business & Market News': 2,\n",
       " 'NYTimes - Latest News': 3,\n",
       " 'NPR News': 2,\n",
       " 'Reuters News': 2,\n",
       " 'Haystack TV: Local & World News - Free': 2,\n",
       " 'ABC News - US & World News': 2,\n",
       " 'NBC News': 2,\n",
       " 'AP Mobile - Breaking News': 2,\n",
       " 'Newsroom: News Worth Sharing': 2,\n",
       " 'AC - Tips & News for Android™': 2,\n",
       " 'Waze - GPS, Maps, Traffic Alerts & Live Navigation': 2,\n",
       " 'Transit: Real-Time Transit App': 2,\n",
       " 'Mapy.cz - Cycling & Hiking offline maps': 2,\n",
       " 'Uber': 2,\n",
       " 'Moovit: Bus Time & Train Time Live Info': 2,\n",
       " 'Maps & GPS Navigation — OsmAnd': 2}"
      ]
     },
     "execution_count": 13,
     "metadata": {},
     "output_type": "execute_result"
    }
   ],
   "source": [
    "check_duplicate(dataset=android, index=0)"
   ]
  },
  {
   "cell_type": "markdown",
   "metadata": {},
   "source": [
    "We don't want to count an app more than once when we analyze data, so we need to remove the duplicate entries. But also, we can't remove the duplicate rows randomly because the data was collected at different times. Therefore, we will keep the row with the highest number of reviews because it corresponds to the latest data."
   ]
  },
  {
   "cell_type": "code",
   "execution_count": 14,
   "metadata": {
    "ExecuteTime": {
     "end_time": "2020-07-06T12:46:44.831667Z",
     "start_time": "2020-07-06T12:46:44.819700Z"
    },
    "scrolled": true
   },
   "outputs": [
    {
     "name": "stdout",
     "output_type": "stream",
     "text": [
      "On android dataset:\n",
      "Number of unique apps: 9659\n"
     ]
    }
   ],
   "source": [
    "def remove_duplicate(dataset,index_app,index_count):\n",
    "    reviews_max={}\n",
    "    for row in dataset:\n",
    "        name=row[index_app]\n",
    "        n_reviews=float(row[index_count])\n",
    "        if (name in reviews_max) and (n_reviews>reviews_max[name]):\n",
    "            reviews_max[name]=n_reviews\n",
    "        elif name not in reviews_max:\n",
    "            reviews_max[name]=n_reviews\n",
    "    print(\"Number of unique apps:\", len(reviews_max))\n",
    "    return reviews_max\n",
    "print('On android dataset:')\n",
    "reviews_android=remove_duplicate(dataset=android,index_app=0,index_count=3)"
   ]
  },
  {
   "cell_type": "code",
   "execution_count": 15,
   "metadata": {
    "ExecuteTime": {
     "end_time": "2020-07-06T12:46:45.780954Z",
     "start_time": "2020-07-06T12:46:44.833662Z"
    },
    "scrolled": true
   },
   "outputs": [
    {
     "name": "stdout",
     "output_type": "stream",
     "text": [
      "Start cleaning the android dataset:\n",
      "Number of rows after removing duplicate entries: 9659\n"
     ]
    }
   ],
   "source": [
    "def cleaning(dataset, unique_app, index_app, index_count):\n",
    "    clean=[]\n",
    "    already_added=[]\n",
    "    for row in dataset:\n",
    "        name=row[index_app]\n",
    "        n_reviews=float(row[index_count])\n",
    "        if (n_reviews==unique_app[name]) and (name not in already_added):\n",
    "            clean.append(row)\n",
    "            already_added.append(name)\n",
    "    print(\"Number of rows after removing duplicate entries:\",len(clean))\n",
    "    return clean\n",
    "print(\"Start cleaning the android dataset:\")\n",
    "android_clean=cleaning(dataset=android, unique_app=reviews_android, index_app=0, index_count=3)\n"
   ]
  },
  {
   "cell_type": "markdown",
   "metadata": {},
   "source": [
    "#### Removing Non English Apps\n",
    "Since our company targets an English-speaking audience, we should only analyze English apps.  \n",
    "According to the [ASCII system](https://en.wikipedia.org/wiki/ASCII), the characters commonly used in English are encoded to numbers in the range of 0 to 127. Based on this information, we will build a function that detects whether a character belongs to the common English characters or not. Precisely, if the number is equal or less than 127, then the character belongs to the set of common English characters."
   ]
  },
  {
   "cell_type": "code",
   "execution_count": 16,
   "metadata": {
    "ExecuteTime": {
     "end_time": "2020-07-06T12:46:45.786972Z",
     "start_time": "2020-07-06T12:46:45.781952Z"
    },
    "scrolled": false
   },
   "outputs": [],
   "source": [
    "# Function takes in a string and returns `False` if there's any character in the\n",
    "# string that doesn't belong to the set of common English characters. It returns\n",
    "# `True` otherwise.\n",
    "\n",
    "def english_or_not(string):\n",
    "    for character in string:\n",
    "        if ord(character)>127:\n",
    "            return False\n",
    "    return True"
   ]
  },
  {
   "cell_type": "markdown",
   "metadata": {},
   "source": [
    "However, certain English app names contain special characters that fall outside the ASCII range. For example:"
   ]
  },
  {
   "cell_type": "code",
   "execution_count": 17,
   "metadata": {
    "ExecuteTime": {
     "end_time": "2020-07-06T12:46:45.798906Z",
     "start_time": "2020-07-06T12:46:45.788934Z"
    },
    "scrolled": false
   },
   "outputs": [
    {
     "name": "stdout",
     "output_type": "stream",
     "text": [
      "False\n"
     ]
    },
    {
     "data": {
      "text/plain": [
       "8482"
      ]
     },
     "execution_count": 17,
     "metadata": {},
     "output_type": "execute_result"
    }
   ],
   "source": [
    "print(english_or_not('Docs To Go™ Free Office Suite'))\n",
    "ord(\"™\")"
   ]
  },
  {
   "cell_type": "markdown",
   "metadata": {},
   "source": [
    "To minimize the impact of data loss, we will only remove an app if its name has more than three characters with corresponding numbers falling outside the ASCII range."
   ]
  },
  {
   "cell_type": "code",
   "execution_count": 18,
   "metadata": {
    "ExecuteTime": {
     "end_time": "2020-07-06T12:46:45.816860Z",
     "start_time": "2020-07-06T12:46:45.808890Z"
    },
    "scrolled": false
   },
   "outputs": [
    {
     "name": "stdout",
     "output_type": "stream",
     "text": [
      "True\n",
      "True\n",
      "False\n"
     ]
    }
   ],
   "source": [
    "# Modify the previous function. It returns False if there's more than 3 characters\n",
    "# that fall outside of the ASCII range, it returns 'True' otherwise\n",
    "def english_or_not(string):\n",
    "    result=0\n",
    "    for character in string:\n",
    "        if ord(character)>127:\n",
    "            result+=1\n",
    "    if result>3:\n",
    "        return False\n",
    "    return True\n",
    "print(english_or_not('Docs To Go™ Free Office Suite'))\n",
    "print(english_or_not('Instachat 😜'))\n",
    "print(english_or_not('爱奇艺PPS -《欢乐颂2》电视剧热播'))"
   ]
  },
  {
   "cell_type": "markdown",
   "metadata": {},
   "source": [
    "The function works as expected. We will loop through each data set."
   ]
  },
  {
   "cell_type": "code",
   "execution_count": 19,
   "metadata": {
    "ExecuteTime": {
     "end_time": "2020-07-06T12:46:45.890662Z",
     "start_time": "2020-07-06T12:46:45.827829Z"
    },
    "scrolled": true
   },
   "outputs": [
    {
     "name": "stdout",
     "output_type": "stream",
     "text": [
      "Explore android_english:\n",
      "\n",
      "Number of rows: 9614\n",
      "Number of columns: 13\n",
      "-----------------------------------\n",
      "Explore ios_english:\n",
      "\n",
      "Number of rows: 6183\n",
      "Number of columns: 16\n"
     ]
    }
   ],
   "source": [
    "android_english=[]\n",
    "ios_english=[]\n",
    "for row in android_clean:\n",
    "    name=row[0]\n",
    "    is_english=english_or_not(name)\n",
    "    if is_english:\n",
    "        android_english.append(row)\n",
    "        \n",
    "for row in ios:\n",
    "    name=row[1]\n",
    "    is_english=english_or_not(name)\n",
    "    if is_english:\n",
    "        ios_english.append(row)\n",
    "\n",
    "print('Explore android_english:\\n')\n",
    "explore_data(android_english,0,0,True)\n",
    "print('-----------------------------------')\n",
    "print('Explore ios_english:\\n')\n",
    "explore_data(ios_english,0,0,True)"
   ]
  },
  {
   "cell_type": "markdown",
   "metadata": {},
   "source": [
    "So far, we've removed the inaccurate data, duplicate entries and non-english apps. We're left with:\n",
    "* **9614 Android apps**\n",
    "* **6183 iOS apps**"
   ]
  },
  {
   "cell_type": "markdown",
   "metadata": {},
   "source": [
    "#### Isolate the free apps"
   ]
  },
  {
   "cell_type": "markdown",
   "metadata": {},
   "source": [
    "As mentioned above, we only build free apps and our main source of revenue consists of in-app ads. For that reason, we should only retain the free apps for our analysis."
   ]
  },
  {
   "cell_type": "code",
   "execution_count": 20,
   "metadata": {
    "ExecuteTime": {
     "end_time": "2020-07-06T12:46:45.901632Z",
     "start_time": "2020-07-06T12:46:45.891658Z"
    },
    "scrolled": false
   },
   "outputs": [
    {
     "name": "stdout",
     "output_type": "stream",
     "text": [
      "Explore android_final:\n",
      "\n",
      "Number of rows: 8864\n",
      "Number of columns: 13\n",
      "-----------------------------\n",
      "Explore ios_final:\n",
      "\n",
      "Number of rows: 3222\n",
      "Number of columns: 16\n"
     ]
    }
   ],
   "source": [
    "# Define a function to isolate the free apps\n",
    "def free_app(dataset, index_price):\n",
    "    free=[]\n",
    "    for row in dataset:\n",
    "        price=row[index_price]\n",
    "        if price in ('0','0.0'):\n",
    "            free.append(row)\n",
    "    return free\n",
    "\n",
    "android_final=free_app(android_english,7)\n",
    "ios_final=free_app(ios_english,4)\n",
    "\n",
    "print('Explore android_final:\\n')\n",
    "explore_data(android_final,0,0,True)\n",
    "print('-----------------------------')\n",
    "print('Explore ios_final:\\n')\n",
    "explore_data(ios_final,0,0,True)"
   ]
  },
  {
   "cell_type": "markdown",
   "metadata": {},
   "source": [
    "At the end of the data cleaning process, we're left with:\n",
    "* 8864 Android apps\n",
    "* 3222 iOS apps\n",
    "\n",
    "We can move onto the next step: Analyzing the data."
   ]
  },
  {
   "cell_type": "markdown",
   "metadata": {},
   "source": [
    "### Analyzing the datasets"
   ]
  },
  {
   "cell_type": "markdown",
   "metadata": {},
   "source": [
    "The objective of this analysis is to find out what kinds of apps are more likely to attract more users because our revenue is highly influenced by the number of people using our apps. Our validation strategy for an app idea is comprised of three steps:\n",
    "1. Build a minimal Android version of the app and add it to Google Play\n",
    "2. If the app has a good response from the users, we develop it further\n",
    "3. If the app is profitable after six month, we build an iOS version of the app and add it to the App Store.\n"
   ]
  },
  {
   "cell_type": "markdown",
   "metadata": {},
   "source": [
    "#### Most Common Genres\n",
    "\n",
    "Since our end goal is to build apps that are successful on both markets, let's begin by determine what are the most common genres for each market. To do that, we will build a frequency table using the `Genre` or `Category` column for Android apps, and `prime_genre` column for iOS apps. "
   ]
  },
  {
   "cell_type": "code",
   "execution_count": 21,
   "metadata": {
    "ExecuteTime": {
     "end_time": "2020-07-06T12:46:45.927563Z",
     "start_time": "2020-07-06T12:46:45.904624Z"
    },
    "scrolled": false
   },
   "outputs": [
    {
     "name": "stdout",
     "output_type": "stream",
     "text": [
      "Using 'Category' column\n",
      "Number of genres: 33\n",
      "----------------------------\n",
      "Using 'Genre' column\n",
      "Number of genres: 114\n",
      "----------------------------\n",
      "Using 'prime_genre' column\n",
      "Number of genres: 23\n"
     ]
    }
   ],
   "source": [
    "def freq_table(dataset, index_genre):\n",
    "    dict_genre={}\n",
    "    n_rows=0\n",
    "    for row in dataset:\n",
    "        genre=row[index_genre]\n",
    "        n_rows+=1\n",
    "        if genre in dict_genre:\n",
    "            dict_genre[genre]+=1\n",
    "        else:\n",
    "            dict_genre[genre]=1\n",
    "    for key in dict_genre:\n",
    "        dict_genre[key]=round((dict_genre[key]/n_rows)*100,3)\n",
    "    print(\"Number of genres:\",len(dict_genre))\n",
    "    return dict_genre\n",
    "\n",
    "print(\"Using 'Category' column\")\n",
    "cat_android=freq_table(dataset=android_final,index_genre=1)\n",
    "print('----------------------------')\n",
    "print(\"Using 'Genre' column\")\n",
    "genre_android=freq_table(dataset=android_final,index_genre=-4)\n",
    "print('----------------------------')\n",
    "print(\"Using 'prime_genre' column\")\n",
    "genre_ios=freq_table(dataset=ios_final,index_genre=-5)"
   ]
  },
  {
   "cell_type": "markdown",
   "metadata": {},
   "source": [
    "We notice that the `Genre` column is much more granular because it contains more values. However, the difference between `Genre` and `Category` is not significative."
   ]
  },
  {
   "cell_type": "code",
   "execution_count": 22,
   "metadata": {
    "ExecuteTime": {
     "end_time": "2020-07-06T12:46:45.945514Z",
     "start_time": "2020-07-06T12:46:45.929557Z"
    },
    "scrolled": true
   },
   "outputs": [
    {
     "name": "stdout",
     "output_type": "stream",
     "text": [
      "The values in \"Genre\":\n",
      "\n",
      "Tools : 8.45\n",
      "Entertainment : 6.069\n",
      "Education : 5.347\n",
      "Business : 4.592\n",
      "Lifestyle : 3.892\n",
      "Productivity : 3.892\n",
      "Finance : 3.7\n",
      "Medical : 3.531\n",
      "Sports : 3.463\n",
      "Personalization : 3.317\n",
      "Communication : 3.238\n",
      "Action : 3.102\n",
      "Health & Fitness : 3.08\n",
      "Photography : 2.944\n",
      "News & Magazines : 2.798\n",
      "Social : 2.662\n",
      "Travel & Local : 2.324\n",
      "Shopping : 2.245\n",
      "Books & Reference : 2.144\n",
      "Simulation : 2.042\n",
      "Dating : 1.861\n",
      "Arcade : 1.85\n",
      "Video Players & Editors : 1.771\n",
      "Casual : 1.76\n",
      "Maps & Navigation : 1.399\n",
      "Food & Drink : 1.241\n",
      "Puzzle : 1.128\n",
      "Racing : 0.993\n",
      "Libraries & Demo : 0.936\n",
      "Role Playing : 0.936\n",
      "Auto & Vehicles : 0.925\n",
      "Strategy : 0.914\n",
      "House & Home : 0.824\n",
      "Weather : 0.801\n",
      "Events : 0.711\n",
      "Adventure : 0.677\n",
      "Comics : 0.609\n",
      "Art & Design : 0.598\n",
      "Beauty : 0.598\n",
      "Parenting : 0.496\n",
      "Card : 0.451\n",
      "Casino : 0.429\n",
      "Trivia : 0.417\n",
      "Educational;Education : 0.395\n",
      "Board : 0.384\n",
      "Educational : 0.372\n",
      "Education;Education : 0.338\n",
      "Word : 0.259\n",
      "Casual;Pretend Play : 0.237\n",
      "Music : 0.203\n",
      "Entertainment;Music & Video : 0.169\n",
      "Puzzle;Brain Games : 0.169\n",
      "Racing;Action & Adventure : 0.169\n",
      "Casual;Brain Games : 0.135\n",
      "Casual;Action & Adventure : 0.135\n",
      "Arcade;Action & Adventure : 0.124\n",
      "Action;Action & Adventure : 0.102\n",
      "Educational;Pretend Play : 0.09\n",
      "Entertainment;Brain Games : 0.079\n",
      "Simulation;Action & Adventure : 0.079\n",
      "Board;Brain Games : 0.079\n",
      "Parenting;Education : 0.079\n",
      "Art & Design;Creativity : 0.068\n",
      "Educational;Brain Games : 0.068\n",
      "Casual;Creativity : 0.068\n",
      "Parenting;Music & Video : 0.068\n",
      "Education;Pretend Play : 0.056\n",
      "Education;Creativity : 0.045\n",
      "Role Playing;Pretend Play : 0.045\n",
      "Education;Brain Games : 0.034\n",
      "Entertainment;Creativity : 0.034\n",
      "Educational;Creativity : 0.034\n",
      "Adventure;Action & Adventure : 0.034\n",
      "Role Playing;Action & Adventure : 0.034\n",
      "Educational;Action & Adventure : 0.034\n",
      "Entertainment;Action & Adventure : 0.034\n",
      "Puzzle;Action & Adventure : 0.034\n",
      "Education;Action & Adventure : 0.034\n",
      "Education;Music & Video : 0.034\n",
      "Casual;Education : 0.023\n",
      "Music;Music & Video : 0.023\n",
      "Simulation;Pretend Play : 0.023\n",
      "Puzzle;Creativity : 0.023\n",
      "Sports;Action & Adventure : 0.023\n",
      "Board;Action & Adventure : 0.023\n",
      "Entertainment;Pretend Play : 0.023\n",
      "Video Players & Editors;Music & Video : 0.023\n",
      "Comics;Creativity : 0.011\n",
      "Lifestyle;Pretend Play : 0.011\n",
      "Art & Design;Pretend Play : 0.011\n",
      "Entertainment;Education : 0.011\n",
      "Arcade;Pretend Play : 0.011\n",
      "Art & Design;Action & Adventure : 0.011\n",
      "Strategy;Action & Adventure : 0.011\n",
      "Music & Audio;Music & Video : 0.011\n",
      "Health & Fitness;Education : 0.011\n",
      "Casual;Music & Video : 0.011\n",
      "Travel & Local;Action & Adventure : 0.011\n",
      "Tools;Education : 0.011\n",
      "Parenting;Brain Games : 0.011\n",
      "Video Players & Editors;Creativity : 0.011\n",
      "Health & Fitness;Action & Adventure : 0.011\n",
      "Trivia;Education : 0.011\n",
      "Lifestyle;Education : 0.011\n",
      "Card;Action & Adventure : 0.011\n",
      "Books & Reference;Education : 0.011\n",
      "Simulation;Education : 0.011\n",
      "Puzzle;Education : 0.011\n",
      "Adventure;Education : 0.011\n",
      "Role Playing;Brain Games : 0.011\n",
      "Strategy;Education : 0.011\n",
      "Racing;Pretend Play : 0.011\n",
      "Communication;Creativity : 0.011\n",
      "Strategy;Creativity : 0.011\n"
     ]
    }
   ],
   "source": [
    "print('The values in \"Genre\":\\n')\n",
    "genre_android={k:v for k,v in sorted(genre_android.items(), key=lambda x:x[1], reverse=True)}\n",
    "for key, val in genre_android.items():\n",
    "    print(key,':',val)"
   ]
  },
  {
   "cell_type": "code",
   "execution_count": 23,
   "metadata": {
    "ExecuteTime": {
     "end_time": "2020-07-06T12:46:45.956485Z",
     "start_time": "2020-07-06T12:46:45.946512Z"
    },
    "scrolled": false
   },
   "outputs": [
    {
     "name": "stdout",
     "output_type": "stream",
     "text": [
      "The values in \"Category\":\n",
      "\n",
      "FAMILY : 18.908\n",
      "GAME : 9.725\n",
      "TOOLS : 8.461\n",
      "BUSINESS : 4.592\n",
      "LIFESTYLE : 3.903\n",
      "PRODUCTIVITY : 3.892\n",
      "FINANCE : 3.7\n",
      "MEDICAL : 3.531\n",
      "SPORTS : 3.396\n",
      "PERSONALIZATION : 3.317\n",
      "COMMUNICATION : 3.238\n",
      "HEALTH_AND_FITNESS : 3.08\n",
      "PHOTOGRAPHY : 2.944\n",
      "NEWS_AND_MAGAZINES : 2.798\n",
      "SOCIAL : 2.662\n",
      "TRAVEL_AND_LOCAL : 2.335\n",
      "SHOPPING : 2.245\n",
      "BOOKS_AND_REFERENCE : 2.144\n",
      "DATING : 1.861\n",
      "VIDEO_PLAYERS : 1.794\n",
      "MAPS_AND_NAVIGATION : 1.399\n",
      "FOOD_AND_DRINK : 1.241\n",
      "EDUCATION : 1.162\n",
      "ENTERTAINMENT : 0.959\n",
      "LIBRARIES_AND_DEMO : 0.936\n",
      "AUTO_AND_VEHICLES : 0.925\n",
      "HOUSE_AND_HOME : 0.824\n",
      "WEATHER : 0.801\n",
      "EVENTS : 0.711\n",
      "PARENTING : 0.654\n",
      "ART_AND_DESIGN : 0.643\n",
      "COMICS : 0.62\n",
      "BEAUTY : 0.598\n"
     ]
    }
   ],
   "source": [
    "print('The values in \"Category\":\\n')\n",
    "cat_android={k:v for k,v in sorted(cat_android.items(), key=lambda x:x[1], reverse=True)}\n",
    "for key, val in cat_android.items():\n",
    "    print(key,':',val)"
   ]
  },
  {
   "cell_type": "markdown",
   "metadata": {},
   "source": [
    "Since we're only looking for the big picture and the informations in the `Genre` column are sometimes redundant, we will work with the `Category` column for the next part."
   ]
  },
  {
   "cell_type": "code",
   "execution_count": 24,
   "metadata": {
    "ExecuteTime": {
     "end_time": "2020-07-06T12:46:45.969450Z",
     "start_time": "2020-07-06T12:46:45.962469Z"
    },
    "scrolled": true
   },
   "outputs": [
    {
     "name": "stdout",
     "output_type": "stream",
     "text": [
      "The values in \"prime_genre\":\n",
      "\n",
      "Games : 58.163\n",
      "Entertainment : 7.883\n",
      "Photo & Video : 4.966\n",
      "Education : 3.662\n",
      "Social Networking : 3.29\n",
      "Shopping : 2.607\n",
      "Utilities : 2.514\n",
      "Sports : 2.142\n",
      "Music : 2.048\n",
      "Health & Fitness : 2.017\n",
      "Productivity : 1.738\n",
      "Lifestyle : 1.583\n",
      "News : 1.335\n",
      "Travel : 1.241\n",
      "Finance : 1.117\n",
      "Weather : 0.869\n",
      "Food & Drink : 0.807\n",
      "Reference : 0.559\n",
      "Business : 0.528\n",
      "Book : 0.435\n",
      "Navigation : 0.186\n",
      "Medical : 0.186\n",
      "Catalogs : 0.124\n"
     ]
    }
   ],
   "source": [
    "print('The values in \"prime_genre\":\\n')\n",
    "genre_ios={k:v for k,v in sorted(genre_ios.items(), key=lambda x:x[1], reverse=True)}\n",
    "for key, val in genre_ios.items():\n",
    "    print(key,':',val)"
   ]
  },
  {
   "cell_type": "markdown",
   "metadata": {},
   "source": [
    "We found that the most common genre on App Store is Games apps (58%). Meanwhile, the majority of Google Play apps belongs to the 'Family' category. This category was added in 2015 to improve app discovery. These apps are family-friendly and most of them are games for kids. Also we notice that Google Play has more balanced percentage.\n",
    "\n",
    "Note that our dataset only contains free english apps, hence we might not see the same pattern on all the apps as a whole."
   ]
  },
  {
   "cell_type": "markdown",
   "metadata": {},
   "source": [
    "#### Most Popular Genre on the App Store"
   ]
  },
  {
   "cell_type": "markdown",
   "metadata": {},
   "source": [
    "Now, we'd like to get an idea about the kind of apps with the most users. To do that, we will calculate the average number of installs for each genre. We will use the `Installs` column for the Google Play dataset and the `rating_count_tot` column for the App Store dataset."
   ]
  },
  {
   "cell_type": "code",
   "execution_count": 25,
   "metadata": {
    "ExecuteTime": {
     "end_time": "2020-07-06T12:46:46.388228Z",
     "start_time": "2020-07-06T12:46:45.972447Z"
    },
    "scrolled": false
   },
   "outputs": [],
   "source": [
    "def cal_avg(dataset, dict_genre, index_genre, index_tot): # function used to calculate the average of installs/rating counts per genre\n",
    "    avg={}\n",
    "    for genre in dict_genre:\n",
    "        total=0\n",
    "        n_rows=0\n",
    "        for row in dataset:\n",
    "            if row[index_genre]==genre:\n",
    "                n_rows+=1\n",
    "                total+=float(row[index_tot])\n",
    "        avg[genre]=round(total/n_rows,2)\n",
    "    avg={k:v for k,v in sorted(avg.items(), key=lambda x:x[1], reverse=True)}\n",
    "    return avg\n",
    "\n",
    "import matplotlib.pyplot as plt\n",
    "\n",
    "def display_chart(key,value): # function used to show the bar charts\n",
    "    y=list(key)\n",
    "    x=list(value)\n",
    "    plt.barh(y,x, 0.95, align='center', color=\"lightskyblue\")\n",
    "    plt.yticks(y)\n",
    "    plt.gca().invert_yaxis()\n",
    "    plt.rcParams[\"figure.figsize\"] = (25,15)\n",
    "    plt.rcParams.update({'font.size': 15})\n",
    "    plt.show()"
   ]
  },
  {
   "cell_type": "code",
   "execution_count": 26,
   "metadata": {
    "ExecuteTime": {
     "end_time": "2020-07-06T12:46:46.412332Z",
     "start_time": "2020-07-06T12:46:46.388228Z"
    },
    "scrolled": false
   },
   "outputs": [
    {
     "name": "stdout",
     "output_type": "stream",
     "text": [
      "Navigation : 86090.33\n",
      "Reference : 74942.11\n",
      "Social Networking : 71548.35\n",
      "Music : 57326.53\n",
      "Weather : 52279.89\n",
      "Book : 39758.5\n",
      "Food & Drink : 33333.92\n",
      "Finance : 31467.94\n",
      "Photo & Video : 28441.54\n",
      "Travel : 28243.8\n",
      "Shopping : 26919.69\n",
      "Health & Fitness : 23298.02\n",
      "Sports : 23008.9\n",
      "Games : 22788.67\n",
      "News : 21248.02\n",
      "Productivity : 21028.41\n",
      "Utilities : 18684.46\n",
      "Lifestyle : 16485.76\n",
      "Entertainment : 14029.83\n",
      "Business : 7491.12\n",
      "Education : 7003.98\n",
      "Catalogs : 4004.0\n",
      "Medical : 612.0\n"
     ]
    }
   ],
   "source": [
    "avg_ios=cal_avg(dataset=ios_final, dict_genre=genre_ios, index_genre=-5, index_tot=5)\n",
    "for k, v in avg_ios.items():\n",
    "    print(k,':',v)"
   ]
  },
  {
   "cell_type": "code",
   "execution_count": 27,
   "metadata": {
    "ExecuteTime": {
     "end_time": "2020-07-06T12:46:46.607244Z",
     "start_time": "2020-07-06T12:46:46.414327Z"
    },
    "scrolled": false
   },
   "outputs": [
    {
     "data": {
      "image/png": "[encoded data removed]",
      "text/plain": [
       "<Figure size 432x288 with 1 Axes>"
      ]
     },
     "metadata": {
      "needs_background": "light"
     },
     "output_type": "display_data"
    }
   ],
   "source": [
    "display_chart(key=avg_ios.keys(),value=avg_ios.values())"
   ]
  },
  {
   "cell_type": "markdown",
   "metadata": {},
   "source": [
    "On average, 'Navigation' genre has the highest number of user reviews. This can be explained by the fact that apps like Google Maps or other GPS apps are helpful and are used everyday. It is also true for social networking apps like Facebok, Instagram, or Music apps like Shazam, Spotify. The metric seems to be skewed because of the giants. One possible solution is to remove these popular apps from our dataset.\n",
    "We can filter the apps whose name starts with 'Google'. We will also remove other popular apps."
   ]
  },
  {
   "cell_type": "code",
   "execution_count": 28,
   "metadata": {
    "ExecuteTime": {
     "end_time": "2020-07-06T12:46:46.973461Z",
     "start_time": "2020-07-06T12:46:46.608242Z"
    }
   },
   "outputs": [
    {
     "name": "stdout",
     "output_type": "stream",
     "text": [
      "Reference : 77774.82\n",
      "Weather : 52279.89\n",
      "Social Networking : 42352.6\n",
      "Book : 39758.5\n",
      "Food & Drink : 33333.92\n",
      "Finance : 31467.94\n",
      "Shopping : 26919.69\n",
      "Health & Fitness : 23298.02\n",
      "Sports : 23008.9\n",
      "Games : 22788.67\n",
      "Music : 22017.19\n",
      "News : 21248.02\n",
      "Productivity : 19841.16\n",
      "Travel : 18426.7\n",
      "Lifestyle : 16485.76\n",
      "Photo & Video : 14559.16\n",
      "Entertainment : 14153.52\n",
      "Utilities : 12520.5\n",
      "Business : 7491.12\n",
      "Education : 7013.06\n",
      "Navigation : 4146.25\n",
      "Catalogs : 4004.0\n",
      "Medical : 612.0\n"
     ]
    },
    {
     "data": {
      "image/png": "[encoded data removed]",
      "text/plain": [
       "<Figure size 1800x1080 with 1 Axes>"
      ]
     },
     "metadata": {
      "needs_background": "light"
     },
     "output_type": "display_data"
    }
   ],
   "source": [
    "ios_filter=[]\n",
    "for row in ios_final:\n",
    "    if not ((row[1].startswith(('Google', 'Waze','Facebook', 'Youtube','Spotify', 'Pandora', 'Shazam', 'WhatsApp', 'Instagram'))==True)):\n",
    "        ios_filter.append(row)\n",
    "\n",
    "avg_ios_2=cal_avg(dataset=ios_filter, dict_genre=genre_ios, index_genre=-5, index_tot=5)\n",
    "for k, v in avg_ios_2.items():\n",
    "    print(k,':',v)\n",
    "    \n",
    "display_chart(key=avg_ios_2.keys(),value=avg_ios_2.values())"
   ]
  },
  {
   "cell_type": "markdown",
   "metadata": {},
   "source": [
    "'Reference' apps seem to have many user ratings."
   ]
  },
  {
   "cell_type": "code",
   "execution_count": 29,
   "metadata": {
    "ExecuteTime": {
     "end_time": "2020-07-06T12:46:46.982436Z",
     "start_time": "2020-07-06T12:46:46.975455Z"
    },
    "scrolled": false
   },
   "outputs": [
    {
     "name": "stdout",
     "output_type": "stream",
     "text": [
      "Bible : 985920\n",
      "Dictionary.com Dictionary & Thesaurus : 200047\n",
      "Dictionary.com Dictionary & Thesaurus for iPad : 54175\n",
      "Muslim Pro: Ramadan 2017 Prayer Times, Azan, Quran : 18418\n",
      "Merriam-Webster Dictionary : 16849\n",
      "Google Translate : 26786\n",
      "Night Sky : 12122\n",
      "WWDC : 762\n",
      "Jishokun-Japanese English Dictionary & Translator : 0\n",
      "教えて!goo : 0\n",
      "VPN Express : 14\n",
      "New Furniture Mods - Pocket Wiki & Game Tools for Minecraft PC Edition : 17588\n",
      "LUCKY BLOCK MOD ™ for Minecraft PC Edition - The Best Pocket Wiki & Mods Installer Tools : 4693\n",
      "Guides for Pokémon GO - Pokemon GO News and Cheats : 826\n",
      "Horror Maps for Minecraft PE - Download The Scariest Maps for Minecraft Pocket Edition (MCPE) Free : 718\n",
      "City Maps for Minecraft PE - The Best Maps for Minecraft Pocket Edition (MCPE) : 8535\n",
      "GUNS MODS for Minecraft PC Edition - Mods Tools : 1497\n",
      "Real Bike Traffic Rider Virtual Reality Glasses : 8\n"
     ]
    }
   ],
   "source": [
    "for row in ios_final:\n",
    "    if row[-5]=='Reference':\n",
    "        print(row[1], ':', row[5])"
   ]
  },
  {
   "cell_type": "markdown",
   "metadata": {},
   "source": [
    "According to the results, we notice that iOS users seems to use references in general and dictionaries in particular frequently. Other popular genres are `Weather`, `Book`, `Food & Drink`."
   ]
  },
  {
   "cell_type": "markdown",
   "metadata": {},
   "source": [
    "#### Most Popular Genres on Google Play\n",
    "For this market, we will use the number of installs of each genre to find out the most popular genre and compare with the results from the Apple Store dataset. \n",
    "However, if we investigate the `Installs` column, we will see that the values are not precise."
   ]
  },
  {
   "cell_type": "code",
   "execution_count": 30,
   "metadata": {
    "ExecuteTime": {
     "end_time": "2020-07-06T12:46:47.002384Z",
     "start_time": "2020-07-06T12:46:46.984431Z"
    },
    "scrolled": false
   },
   "outputs": [
    {
     "name": "stdout",
     "output_type": "stream",
     "text": [
      "{'0+', '10,000+', '1,000+', '50,000,000+', '50+', '100+', '50,000+', '10+', '100,000,000+', '100,000+', '10,000,000+', '0', '500+', '1,000,000+', '5+', '5,000,000+', '500,000,000+', '1,000,000,000+', '1+', '5,000+', '500,000+'}\n",
      "21\n"
     ]
    }
   ],
   "source": [
    "list_installs=[]\n",
    "for row in android_final:\n",
    "    list_installs.append(row[5])\n",
    "print(set(list_installs))\n",
    "print(len(set(list_installs))) #21 unique values"
   ]
  },
  {
   "cell_type": "markdown",
   "metadata": {},
   "source": [
    "The data that we have doesn't allow us to see the exact number of installs. But it can help compare between the apps. Since we only want to know wihch genres attract the most users, we can still work with this column by calculating the average number of installs per genre.\n",
    "\n",
    "First, we'll need to convert the number of installs from string to float."
   ]
  },
  {
   "cell_type": "code",
   "execution_count": 31,
   "metadata": {
    "ExecuteTime": {
     "end_time": "2020-07-06T12:46:47.028314Z",
     "start_time": "2020-07-06T12:46:47.004379Z"
    },
    "scrolled": false
   },
   "outputs": [
    {
     "name": "stdout",
     "output_type": "stream",
     "text": [
      "{50000000.0, 10000000.0, 1000000000.0, 100000000.0, 500000000.0, 1.0, 5.0, 0.0, 5000.0, 10.0, 10000.0, 100000.0, 500000.0, 50.0, 5000000.0, 1000000.0, 50000.0, 100.0, 1000.0, 500.0}\n",
      "20\n"
     ]
    }
   ],
   "source": [
    "list_installs=[]\n",
    "for row in android_final:\n",
    "    row[5]=row[5].replace('+','') # remove the '+'\n",
    "    row[5]=row[5].replace(',','') # remove the ','\n",
    "    row[5]=float(row[5])\n",
    "    list_installs.append(row[5])\n",
    "print(set(list_installs))\n",
    "print(len(set(list_installs))) #20 unique values because 0+ became 0"
   ]
  },
  {
   "cell_type": "code",
   "execution_count": 32,
   "metadata": {
    "ExecuteTime": {
     "end_time": "2020-07-06T12:46:47.073197Z",
     "start_time": "2020-07-06T12:46:47.030309Z"
    },
    "scrolled": false
   },
   "outputs": [
    {
     "name": "stdout",
     "output_type": "stream",
     "text": [
      "COMMUNICATION : 38456119.17\n",
      "VIDEO_PLAYERS : 24727872.45\n",
      "SOCIAL : 23253652.13\n",
      "PHOTOGRAPHY : 17840110.4\n",
      "PRODUCTIVITY : 16787331.34\n",
      "GAME : 15588015.6\n",
      "TRAVEL_AND_LOCAL : 13984077.71\n",
      "ENTERTAINMENT : 11640705.88\n",
      "TOOLS : 10801391.3\n",
      "NEWS_AND_MAGAZINES : 9549178.47\n",
      "BOOKS_AND_REFERENCE : 8767811.89\n",
      "SHOPPING : 7036877.31\n",
      "PERSONALIZATION : 5201482.61\n",
      "WEATHER : 5074486.2\n",
      "HEALTH_AND_FITNESS : 4188821.99\n",
      "MAPS_AND_NAVIGATION : 4056941.77\n",
      "FAMILY : 3695641.82\n",
      "SPORTS : 3638640.14\n",
      "ART_AND_DESIGN : 1986335.09\n",
      "FOOD_AND_DRINK : 1924897.74\n",
      "EDUCATION : 1833495.15\n",
      "BUSINESS : 1712290.15\n",
      "LIFESTYLE : 1437816.27\n",
      "FINANCE : 1387692.48\n",
      "HOUSE_AND_HOME : 1331540.56\n",
      "DATING : 854028.83\n",
      "COMICS : 817657.27\n",
      "AUTO_AND_VEHICLES : 647317.82\n",
      "LIBRARIES_AND_DEMO : 638503.73\n",
      "PARENTING : 542603.62\n",
      "BEAUTY : 513151.89\n",
      "EVENTS : 253542.22\n",
      "MEDICAL : 120550.62\n"
     ]
    }
   ],
   "source": [
    "avg_android=cal_avg(dataset=android_final, dict_genre=cat_android, index_genre=1, index_tot=5)\n",
    "for k, v in avg_android.items():\n",
    "    print(k,':',v)"
   ]
  },
  {
   "cell_type": "code",
   "execution_count": 33,
   "metadata": {
    "ExecuteTime": {
     "end_time": "2020-07-06T12:46:47.482756Z",
     "start_time": "2020-07-06T12:46:47.075188Z"
    },
    "scrolled": false
   },
   "outputs": [
    {
     "data": {
      "image/png": "[encoded data removed]",
      "text/plain": [
       "<Figure size 1800x1080 with 1 Axes>"
      ]
     },
     "metadata": {
      "needs_background": "light"
     },
     "output_type": "display_data"
    }
   ],
   "source": [
    "display_chart(key=avg_android.keys(),value=avg_android.values())"
   ]
  },
  {
   "cell_type": "markdown",
   "metadata": {},
   "source": [
    "On average, `Communication` apps have the most installs (38456119). Yet, this result is heavily skewed by the number of installs of the popular apps. We notice the same pattern for the `Video_players` and `Social` genres."
   ]
  },
  {
   "cell_type": "code",
   "execution_count": 34,
   "metadata": {
    "ExecuteTime": {
     "end_time": "2020-07-06T12:46:47.498772Z",
     "start_time": "2020-07-06T12:46:47.482756Z"
    }
   },
   "outputs": [],
   "source": [
    "def app(dataset, index_app, index_genre, index_tot, genre):\n",
    "    apps={}\n",
    "    for row in dataset:\n",
    "        if row[index_genre]==genre:\n",
    "            apps[row[index_app]]=row[index_tot]\n",
    "    apps={k:v for k,v in sorted(apps.items(), key=lambda x:x[1], reverse=True)}\n",
    "    return apps\n",
    "com_apps=app(android_final, 0,1,5,'COMMUNICATION')\n",
    "vid_apps=app(android_final, 0,1,5,'VIDEO_PLAYERS')\n",
    "social_apps=app(android_final, 0,1,5,'SOCIAL')"
   ]
  },
  {
   "cell_type": "code",
   "execution_count": 35,
   "metadata": {
    "ExecuteTime": {
     "end_time": "2020-07-06T12:46:47.512734Z",
     "start_time": "2020-07-06T12:46:47.501765Z"
    },
    "scrolled": true
   },
   "outputs": [
    {
     "data": {
      "text/plain": [
       "{'WhatsApp Messenger': 1000000000.0,\n",
       " 'Messenger – Text and Video Chat for Free': 1000000000.0,\n",
       " 'Skype - free IM & video calls': 1000000000.0,\n",
       " 'Google Chrome: Fast & Secure': 1000000000.0,\n",
       " 'Gmail': 1000000000.0,\n",
       " 'Hangouts': 1000000000.0,\n",
       " 'Google Duo - High Quality Video Calls': 500000000.0,\n",
       " 'imo free video calls and chat': 500000000.0,\n",
       " 'LINE: Free Calls & Messages': 500000000.0,\n",
       " 'UC Browser - Fast Download Private & Secure': 500000000.0,\n",
       " 'Viber Messenger': 500000000.0,\n",
       " 'imo beta free calls and text': 100000000.0,\n",
       " 'Android Messages': 100000000.0,\n",
       " 'Who': 100000000.0,\n",
       " 'GO SMS Pro - Messenger, Free Themes, Emoji': 100000000.0,\n",
       " 'Firefox Browser fast & private': 100000000.0,\n",
       " 'Messenger Lite: Free Calls & Messages': 100000000.0,\n",
       " 'Kik': 100000000.0,\n",
       " 'KakaoTalk: Free Calls & Text': 100000000.0,\n",
       " 'Opera Mini - fast web browser': 100000000.0,\n",
       " 'Opera Browser: Fast and Secure': 100000000.0,\n",
       " 'Telegram': 100000000.0,\n",
       " 'Truecaller: Caller ID, SMS spam blocking & Dialer': 100000000.0,\n",
       " 'UC Browser Mini -Tiny Fast Private & Secure': 100000000.0,\n",
       " 'WeChat': 100000000.0,\n",
       " 'Yahoo Mail – Stay Organized': 100000000.0,\n",
       " 'BBM - Free Calls & Messages': 100000000.0,\n",
       " 'Contacts': 50000000.0,\n",
       " 'free video calls and chat': 50000000.0,\n",
       " 'Dolphin Browser - Fast, Private & Adblock🐬': 50000000.0,\n",
       " 'Mail.Ru - Email App': 50000000.0,\n",
       " 'Azar': 50000000.0,\n",
       " 'CM Browser - Ad Blocker , Fast Download , Privacy': 50000000.0,\n",
       " 'Zalo – Video Call': 50000000.0,\n",
       " 'Messenger for SMS': 10000000.0,\n",
       " 'Browser 4G': 10000000.0,\n",
       " 'MegaFon Dashboard': 10000000.0,\n",
       " 'ZenUI Dialer & Contacts': 10000000.0,\n",
       " 'Cricket Visual Voicemail': 10000000.0,\n",
       " 'Xperia Link™': 10000000.0,\n",
       " 'TouchPal Keyboard - Fun Emoji & Android Keyboard': 10000000.0,\n",
       " 'AT&T Visual Voicemail': 10000000.0,\n",
       " 'GMX Mail': 10000000.0,\n",
       " 'Omlet Chat': 10000000.0,\n",
       " 'chomp SMS': 10000000.0,\n",
       " 'Glide - Video Chat Messenger': 10000000.0,\n",
       " 'Text SMS': 10000000.0,\n",
       " 'Talkray - Free Calls & Texts': 10000000.0,\n",
       " 'GroupMe': 10000000.0,\n",
       " 'Contacts+': 10000000.0,\n",
       " 'ExDialer - Dialer & Contacts': 10000000.0,\n",
       " 'Hiya - Caller ID & Block': 10000000.0,\n",
       " 'Mr. Number-Block calls & spam': 10000000.0,\n",
       " 'Calls Blacklist - Call Blocker': 10000000.0,\n",
       " 'myMail – Email for Hotmail, Gmail and Outlook Mail': 10000000.0,\n",
       " 'GO Notifier': 10000000.0,\n",
       " 'Discord - Chat for Gamers': 10000000.0,\n",
       " 'Talkatone: Free Texts, Calls & Phone Number': 10000000.0,\n",
       " 'Free WiFi Connect': 10000000.0,\n",
       " 'Opera Mini browser beta': 10000000.0,\n",
       " 'Psiphon Pro - The Internet Freedom VPN': 10000000.0,\n",
       " 'ICQ — Video Calls & Chat Messenger': 10000000.0,\n",
       " 'Portable Wi-Fi hotspot': 10000000.0,\n",
       " 'WhatsApp Business': 10000000.0,\n",
       " 'WhatsCall Free Global Phone Call App & Cheap Calls': 10000000.0,\n",
       " 'Free Adblocker Browser - Adblock & Popup Blocker': 10000000.0,\n",
       " 'Adblock Browser for Android': 10000000.0,\n",
       " 'Puffin Web Browser': 10000000.0,\n",
       " 'Google Voice': 10000000.0,\n",
       " 'Google Allo': 10000000.0,\n",
       " 'WEB.DE Mail': 10000000.0,\n",
       " 'CallApp: Caller ID, Blocker & Phone Call Recorder': 10000000.0,\n",
       " 'Whoscall - Caller ID & Block': 10000000.0,\n",
       " 'DU Browser—Browse fast & fun': 10000000.0,\n",
       " 'Orfox: Tor Browser for Android': 10000000.0,\n",
       " 'Voxer Walkie Talkie Messenger': 10000000.0,\n",
       " 'Hangouts Dialer - Call Phones': 10000000.0,\n",
       " 'My Tele2': 5000000.0,\n",
       " 'Call Free – Free Call': 5000000.0,\n",
       " 'Web Browser & Explorer': 5000000.0,\n",
       " 'Skype Lite - Free Video Call & Chat': 5000000.0,\n",
       " 'My Vodacom SA': 5000000.0,\n",
       " 'Microsoft Edge': 5000000.0,\n",
       " 'Calls & Text by Mo+': 5000000.0,\n",
       " 'Full Screen Caller ID': 5000000.0,\n",
       " 'CIA - Caller ID & Call Blocker': 5000000.0,\n",
       " 'Call Control - Call Blocker': 5000000.0,\n",
       " 'Sync.ME – Caller ID & Block': 5000000.0,\n",
       " 'K-9 Mail': 5000000.0,\n",
       " 'Daum Mail - Next Mail': 5000000.0,\n",
       " 'JusTalk - Free Video Calls and Fun Video Chat': 5000000.0,\n",
       " 'AT&T Call Protect': 5000000.0,\n",
       " 'Brave Browser: Fast AdBlocker': 5000000.0,\n",
       " 'Ear Agent: Super Hearing': 5000000.0,\n",
       " 'Bluetooth Auto Connect': 5000000.0,\n",
       " 'Chrome Dev': 5000000.0,\n",
       " 'CM Transfer - Share any files with friends nearby': 5000000.0,\n",
       " 'Your Freedom VPN Client': 5000000.0,\n",
       " 'Caller ID & Call Block - DU Caller': 5000000.0,\n",
       " 'TracFone My Account': 1000000.0,\n",
       " 'My magenta': 1000000.0,\n",
       " 'Seznam.cz': 1000000.0,\n",
       " 'Messaging+ SMS, MMS Free': 1000000.0,\n",
       " 'mysms SMS Text Messaging Sync': 1000000.0,\n",
       " '2ndLine - Second Phone Number': 1000000.0,\n",
       " 'Ninesky Browser': 1000000.0,\n",
       " 'Ghostery Privacy Browser': 1000000.0,\n",
       " 'InBrowser - Incognito Browsing': 1000000.0,\n",
       " 'PHONE for Google Voice & GTalk': 1000000.0,\n",
       " 'Safest Call Blocker': 1000000.0,\n",
       " 'Should I Answer?': 1000000.0,\n",
       " 'RocketDial Dialer & Contacts': 1000000.0,\n",
       " 'True Contact - Real Caller ID': 1000000.0,\n",
       " 'Video Caller Id': 1000000.0,\n",
       " 'Burner - Free Phone Number': 1000000.0,\n",
       " 'Caller ID +': 1000000.0,\n",
       " 'Email TypeApp - Mail App': 1000000.0,\n",
       " 'All Email Providers': 1000000.0,\n",
       " 'Newton Mail - Email App for Gmail, Outlook, IMAP': 1000000.0,\n",
       " 'mail.com mail': 1000000.0,\n",
       " 'Vonage Mobile® Call Video Text': 1000000.0,\n",
       " 'AntennaPict β': 1000000.0,\n",
       " 'AT&T Messages for Tablet': 1000000.0,\n",
       " 'Adblock Plus for Samsung Internet - Browse safe.': 1000000.0,\n",
       " 'AW - free video calls and chat': 1000000.0,\n",
       " 'BBMoji - Your personalized BBM Stickers': 1000000.0,\n",
       " 'SW-100.tch by Callstel': 1000000.0,\n",
       " 'Tiny Call Confirm': 1000000.0,\n",
       " 'CB Radio Chat - for friends!': 1000000.0,\n",
       " 'Virtual Walkie Talkie': 1000000.0,\n",
       " 'ClanPlay: Community and Tools for Gamers': 1000000.0,\n",
       " 'My Vodafone (GR)': 1000000.0,\n",
       " 'DW Contacts & Phone & Dialer': 1000000.0,\n",
       " 'Call Blocker - Blacklist, SMS Blocker': 1000000.0,\n",
       " 'Web Browser for Android': 1000000.0,\n",
       " 'Lite for Facebook Messenger': 1000000.0,\n",
       " 'Wi-Fi Auto-connect': 1000000.0,\n",
       " 'WeFi - Free Fast WiFi Connect & Find Wi-Fi Map': 1000000.0,\n",
       " 'Firefox Focus: The privacy browser': 1000000.0,\n",
       " 'Lightning Web Browser': 500000.0,\n",
       " 'Web Browser': 500000.0,\n",
       " 'SolMail - All-in-One email app': 500000.0,\n",
       " 'LokLok: Draw on a Lock Screen': 500000.0,\n",
       " 'U - Webinars, Meetings & Messenger': 500000.0,\n",
       " 'BD Data Plan (3G & 4G)': 500000.0,\n",
       " 'Talkie - Wi-Fi Calling, Chats, File Sharing': 500000.0,\n",
       " 'TownWiFi | Wi-Fi Everywhere': 500000.0,\n",
       " 'FreedomPop Messaging Phone/SIM': 500000.0,\n",
       " 'Antillean Gold Telegram (original version)': 100000.0,\n",
       " 'K-@ Mail - Email App': 100000.0,\n",
       " 'M star Dialer': 100000.0,\n",
       " 'T-Mobile DIGITS': 100000.0,\n",
       " 'PlacarTv Futebol Ao Vivo': 100000.0,\n",
       " 'WiFi Access Point (hotspot)': 100000.0,\n",
       " 'Baby Monitor AV': 100000.0,\n",
       " 'AZ Browser. Private & Download': 100000.0,\n",
       " 'BT MeetMe with Dolby Voice': 100000.0,\n",
       " 'CB On Mobile': 100000.0,\n",
       " 'Channel 19': 100000.0,\n",
       " 'QRZ Assistant': 100000.0,\n",
       " 'Morse Code Reader': 100000.0,\n",
       " 'Goodbox - Mega App': 100000.0,\n",
       " 'Everbridge': 100000.0,\n",
       " 'Portable Wi-Fi hotspot Free': 100000.0,\n",
       " 'N-Com Wizard': 50000.0,\n",
       " 'X Browser': 50000.0,\n",
       " 'BD Internet Packages (Updated)': 50000.0,\n",
       " 'My BF App': 50000.0,\n",
       " 'BT Messenger': 50000.0,\n",
       " 'AudioBT: BT audio GPS/SMS/Text': 50000.0,\n",
       " 'IZ2UUF Morse Koch CW': 50000.0,\n",
       " '3G DZ Configuration': 50000.0,\n",
       " 'Free Wi-fi HotspoT': 50000.0,\n",
       " 'HipChat - beta version': 50000.0,\n",
       " 'Mail1Click - Secure Mail': 10000.0,\n",
       " 'm:go BiH': 10000.0,\n",
       " '/u/app': 10000.0,\n",
       " '[verify-U] VideoIdent': 10000.0,\n",
       " 'Ad Blocker Turbo - Adblocker Browser': 10000.0,\n",
       " 'Access Point Names': 10000.0,\n",
       " 'ClanHQ': 10000.0,\n",
       " 'BD Dialer': 10000.0,\n",
       " 'BF Browser by Betfilter - Stop Gambling Today!': 10000.0,\n",
       " 'DMR BrandMeister Tool': 10000.0,\n",
       " 'BT One Phone Mobile App': 10000.0,\n",
       " 'Feel Performer': 10000.0,\n",
       " 'Pocket Prefix Plus': 10000.0,\n",
       " 'Ham Radio Prefixes': 10000.0,\n",
       " 'Ring': 10000.0,\n",
       " 'Deaf World DW': 10000.0,\n",
       " 'Eg Call': 10000.0,\n",
       " 'Inbox.eu': 10000.0,\n",
       " 'EZ Wifi Notification': 10000.0,\n",
       " 'Jazz Wi-Fi': 10000.0,\n",
       " 'K-9 Material (unofficial)': 5000.0,\n",
       " 'AG Contacts, Lite edition': 5000.0,\n",
       " 'AK Phone': 5000.0,\n",
       " 'BD Live Call': 5000.0,\n",
       " 'BT One Voice mobile access': 5000.0,\n",
       " 'retteMi.ch': 5000.0,\n",
       " 'mail.co.uk Mail': 5000.0,\n",
       " 'CS Browser Beta': 5000.0,\n",
       " 'Learn Morse Code - G0HYN Learn Morse': 5000.0,\n",
       " 'DM for WhatsApp': 5000.0,\n",
       " 'DM Talk New': 5000.0,\n",
       " 'Ham DX Cluster & Spots Finder': 5000.0,\n",
       " 'Mircules DX Cluster Lite': 5000.0,\n",
       " 'love sms good morning': 5000.0,\n",
       " 'Council Voting Calculator': 5000.0,\n",
       " 'Sat-Fi': 5000.0,\n",
       " 'AU Call Blocker - Block Unwanted Calls Texts 2018': 1000.0,\n",
       " 'AV Phone': 1000.0,\n",
       " 'BH Mail': 1000.0,\n",
       " 'BK Chat': 1000.0,\n",
       " 'BN MALLORCA Radio': 1000.0,\n",
       " 'BQ Partners': 1000.0,\n",
       " 'CQ-Mobile': 1000.0,\n",
       " 'CS Customizer': 1000.0,\n",
       " 'CS Browser | #1 & BEST BROWSER': 1000.0,\n",
       " 'SMS Sender - sluzba.cz': 1000.0,\n",
       " 'cluster.dk': 1000.0,\n",
       " 'DM Tracker': 1000.0,\n",
       " 'Call Blocker & Blacklist': 1000.0,\n",
       " 'ReadyOp DT': 1000.0,\n",
       " 'BlueDV AMBE': 1000.0,\n",
       " 'EU Council': 1000.0,\n",
       " 'FC Browser - Focus Privacy Browser': 1000.0,\n",
       " 'Sat-Fi Voice': 1000.0,\n",
       " 'FO AIRBUS TLSE': 1000.0,\n",
       " 'Traffic signs BD': 500.0,\n",
       " 'ATC Unico BS': 500.0,\n",
       " 'CQ-Alert': 500.0,\n",
       " 'CW BLE Peripheral Simulator': 500.0,\n",
       " 'Rádio Sol Nascente DF': 500.0,\n",
       " 'ES-1': 500.0,\n",
       " 'Have your say on Europe': 500.0,\n",
       " 'Best Auto Call Recorder Free': 500.0,\n",
       " \"Bee'ah Employee App\": 100.0,\n",
       " 'tournaments and more.aj.2': 100.0,\n",
       " 'Aj.Petra': 100.0,\n",
       " 'Katalogen.ax': 100.0,\n",
       " 'BV': 100.0,\n",
       " 'CF Chat: Connecting Friends': 100.0,\n",
       " 'CJ Browser - Fast & Private': 100.0,\n",
       " 'CJ DVD Rentals': 100.0,\n",
       " 'C W Browser': 100.0,\n",
       " 'CW Bluetooth SPP': 100.0,\n",
       " 'Cy Messenger': 100.0,\n",
       " 'Amadeus GR & CY': 100.0,\n",
       " 'DG Card': 100.0,\n",
       " 'chat dz': 100.0,\n",
       " '[EF]ShoutBox': 100.0,\n",
       " 'EP RSS Reader': 100.0,\n",
       " 'Programi podrške EU': 100.0,\n",
       " 'EHiN-FH conferenceapp': 100.0,\n",
       " 'Carpooling FH Hagenberg': 100.0,\n",
       " 'MARKET FO': 100.0,\n",
       " 'FO OP St-Nazaire': 100.0,\n",
       " 'FO SODEXO': 100.0,\n",
       " 'FO RCBT': 100.0,\n",
       " 'FO Interim': 100.0,\n",
       " 'FO PSA Sept-Fons': 100.0,\n",
       " 'FO STELIA Méaulte': 100.0,\n",
       " 'FO AIRBUS Nantes': 100.0,\n",
       " 'FP Connect': 100.0,\n",
       " 'AC-BL': 50.0,\n",
       " 'BS-Mobile': 50.0,\n",
       " 'Cb browser': 50.0,\n",
       " 'Hyundai CX Conference': 50.0,\n",
       " 'DK TEL Dialer': 50.0,\n",
       " 'Oklahoma Ag Co-op Council': 10.0,\n",
       " 'Best Browser BD social networking': 10.0,\n",
       " 'BJ - Confidential': 10.0,\n",
       " 'CK Call NEW': 10.0,\n",
       " 'Hlášenírozhlasu.cz': 10.0,\n",
       " 'DK Browser': 10.0,\n",
       " 'DM - The Offical Messaging App': 10.0,\n",
       " 'ei': 10.0,\n",
       " 'EJ messenger': 10.0,\n",
       " 'Ek IRA': 10.0,\n",
       " 'EO Mumbai': 10.0,\n",
       " 'FN Web Radio': 10.0,\n",
       " 'FNH Payment Info': 10.0,\n",
       " 'FP Live': 10.0,\n",
       " 'Of the wall Arapaho bk': 5.0,\n",
       " 'Test Server SMS FA': 5.0,\n",
       " 'BA SALES': 1.0}"
      ]
     },
     "execution_count": 35,
     "metadata": {},
     "output_type": "execute_result"
    }
   ],
   "source": [
    "com_apps"
   ]
  },
  {
   "cell_type": "code",
   "execution_count": 36,
   "metadata": {
    "ExecuteTime": {
     "end_time": "2020-07-06T12:46:47.522739Z",
     "start_time": "2020-07-06T12:46:47.514744Z"
    }
   },
   "outputs": [
    {
     "data": {
      "text/plain": [
       "{'YouTube': 1000000000.0,\n",
       " 'Google Play Movies & TV': 1000000000.0,\n",
       " 'MX Player': 500000000.0,\n",
       " 'Motorola Gallery': 100000000.0,\n",
       " 'VLC for Android': 100000000.0,\n",
       " 'Dubsmash': 100000000.0,\n",
       " 'VivaVideo - Video Editor & Photo Movie': 100000000.0,\n",
       " 'VideoShow-Video Editor, Video Maker, Beauty Camera': 100000000.0,\n",
       " 'Motorola FM Radio': 100000000.0,\n",
       " 'Vote for': 50000000.0,\n",
       " 'Vigo Video': 50000000.0,\n",
       " 'MiniMovie - Free Video and Slideshow Editor': 50000000.0,\n",
       " 'Samsung Video Library': 50000000.0,\n",
       " 'LIKE – Magic Video Maker & Community': 50000000.0,\n",
       " 'DU Recorder – Screen Recorder, Video Editor, Live': 50000000.0,\n",
       " 'KineMaster – Pro Video Editor': 50000000.0,\n",
       " 'VMate': 50000000.0,\n",
       " 'HD Video Downloader : 2018 Best video mate': 50000000.0,\n",
       " 'Ringdroid': 50000000.0,\n",
       " 'Video Downloader': 10000000.0,\n",
       " 'Video Player All Format': 10000000.0,\n",
       " 'Code': 10000000.0,\n",
       " 'Music - Mp3 Player': 10000000.0,\n",
       " 'YouTube Studio': 10000000.0,\n",
       " 'video player for android': 10000000.0,\n",
       " 'HTC Service － DLNA': 10000000.0,\n",
       " 'HTC Gallery': 10000000.0,\n",
       " 'PowerDirector Video Editor App: 4K, Slow Mo & More': 10000000.0,\n",
       " 'Cartoon Network App': 10000000.0,\n",
       " 'Omlet Arcade - Stream, Meet, Play': 10000000.0,\n",
       " 'Magisto Video Editor & Maker': 10000000.0,\n",
       " 'Mobizen Screen Recorder for SAMSUNG': 10000000.0,\n",
       " 'Ustream': 10000000.0,\n",
       " 'All Video Downloader': 10000000.0,\n",
       " 'FilmoraGo - Free Video Editor': 10000000.0,\n",
       " 'iMediaShare – Photos & Music': 10000000.0,\n",
       " 'AZ Screen Recorder - No Root': 10000000.0,\n",
       " 'AfreecaTV': 10000000.0,\n",
       " 'BSPlayer FREE': 10000000.0,\n",
       " 'BitTorrent®- Torrent Downloads': 10000000.0,\n",
       " 'Video Downloader - for Instagram Repost App': 10000000.0,\n",
       " 'Quik – Free Video Editor for photos, clips, music': 10000000.0,\n",
       " 'FrostWire: Torrent Downloader & Music Player': 10000000.0,\n",
       " 'Inst Download - Video & Photo': 10000000.0,\n",
       " 'Naruto Shippuden - Watch Free!': 10000000.0,\n",
       " 'YouCut - Video Editor & Video Maker, No Watermark': 5000000.0,\n",
       " 'HTC Service—Video Player': 5000000.0,\n",
       " 'Droid Zap by Motorola': 5000000.0,\n",
       " 'Video Editor': 5000000.0,\n",
       " 'Adobe Premiere Clip': 5000000.0,\n",
       " 'ActionDirector Video Editor - Edit Videos Fast': 5000000.0,\n",
       " 'WiFi Baby Monitor - NannyCam': 5000000.0,\n",
       " 'All Video Downloader 2018': 1000000.0,\n",
       " 'HD Video Player': 1000000.0,\n",
       " 'Iqiyi (for tablet)': 1000000.0,\n",
       " 'XX HD Video downloader-Free Video Downloader': 1000000.0,\n",
       " 'OBJECTIVE': 1000000.0,\n",
       " 'HD Movie Video Player': 1000000.0,\n",
       " 'Video Editor,Crop Video,Movie Video,Music,Effects': 1000000.0,\n",
       " 'VPlayer': 1000000.0,\n",
       " 'OnePlus Gallery': 1000000.0,\n",
       " 'Play Tube': 1000000.0,\n",
       " 'video player': 1000000.0,\n",
       " 'G Guide Program Guide (SOFTBANK EMOBILE WILLCOM version)': 1000000.0,\n",
       " 'Video.Guru - Video Maker': 1000000.0,\n",
       " 'Video Status': 1000000.0,\n",
       " 'SVT Play': 1000000.0,\n",
       " 'BluTV': 1000000.0,\n",
       " 'Tencent Video - Supporting the whole network': 1000000.0,\n",
       " 'VUE: video editor & camcorder': 1000000.0,\n",
       " 'Mobizen Screen Recorder for LG - Record, Capture': 1000000.0,\n",
       " 'VidPlay': 1000000.0,\n",
       " 'Multiple Videos at Same Time': 1000000.0,\n",
       " 'AX Player -Nougat Video Player': 1000000.0,\n",
       " 'Funny videos for whatsapp': 1000000.0,\n",
       " 'iPlayIT for YouTube VR Player': 1000000.0,\n",
       " 'BSPlayer ARMv7 VFP CPU support': 1000000.0,\n",
       " 'Vuze Torrent Downloader': 1000000.0,\n",
       " 'AndStream - Streaming Download': 1000000.0,\n",
       " 'DS photo': 1000000.0,\n",
       " 'DS video': 1000000.0,\n",
       " 'DU Privacy-hide apps、sms、file': 1000000.0,\n",
       " 'iSmart DV': 1000000.0,\n",
       " 'EZCast – Cast Media to TV': 1000000.0,\n",
       " 'HD Video Download for Facebook': 1000000.0,\n",
       " 'Video Player All Format for Android': 500000.0,\n",
       " 'CJ VLC HD Remote (+ Stream)': 500000.0,\n",
       " 'DR TV': 500000.0,\n",
       " 'GoPlus Cam': 500000.0,\n",
       " 'Free TV series': 100000.0,\n",
       " 'amazer - Global Kpop Video Community': 100000.0,\n",
       " \"Sketch 'n' go\": 100000.0,\n",
       " 'AB Repeat Player': 100000.0,\n",
       " 'Ez Screen Recorder (no ad)': 100000.0,\n",
       " 'AW Screen Recorder No Root': 100000.0,\n",
       " 'BGCN TV': 100000.0,\n",
       " 'Nero AirBurn': 100000.0,\n",
       " 'GoAction': 100000.0,\n",
       " 'ES Audio Player ( Shortcut )': 100000.0,\n",
       " 'EZ Web Video Cast | Chromecast': 100000.0,\n",
       " 'Video Downloader for FB : Video Download with Link': 100000.0,\n",
       " 'AX Video Player': 50000.0,\n",
       " 'bgtime.tv': 50000.0,\n",
       " 'BR Series': 50000.0,\n",
       " 'ACTIVEON CX & CX GOLD': 50000.0,\n",
       " 'dv Prompter': 50000.0,\n",
       " 'ES-IPTV': 50000.0,\n",
       " 'Casper Ssinema': 10000.0,\n",
       " 'W Box VMS': 10000.0,\n",
       " 'HD Video Player (wmv,avi,mp4,flv,av,mpg,mkv)2017': 10000.0,\n",
       " 'EML UPnP-AV Control Point': 10000.0,\n",
       " 'BK News Channel': 10000.0,\n",
       " 'BS player remote': 10000.0,\n",
       " 'DG UPnP Player Free': 10000.0,\n",
       " 'DG Video Editor': 10000.0,\n",
       " 'MelifeCam-M': 10000.0,\n",
       " 'Downvids Helper - One touch DW': 10000.0,\n",
       " 'ek tuhi': 10000.0,\n",
       " 'EZ-SEE': 10000.0,\n",
       " 'EZ TV Player': 10000.0,\n",
       " 'EZ Usenet for Easynews®': 10000.0,\n",
       " 'HD VideoDownlaoder For Fb : XXVideo Downloader': 10000.0,\n",
       " 'M-Sight Pro': 5000.0,\n",
       " 'Q-See Plus': 5000.0,\n",
       " 'W Box VMS HD': 5000.0,\n",
       " 'A-B repeater': 5000.0,\n",
       " 'HD Video Player - Video & MP3 Player | AV Player |': 5000.0,\n",
       " 'Ay': 5000.0,\n",
       " 'BG video - floating video - background video': 5000.0,\n",
       " 'BR Video Player': 5000.0,\n",
       " 'DV Lottery Photo': 5000.0,\n",
       " '4K VIDEO PLAYER ULTRA HD': 5000.0,\n",
       " 'DZ Popup Video Player': 5000.0,\n",
       " 'EF Sidekick': 5000.0,\n",
       " 'Furrion ES Control': 5000.0,\n",
       " 'Videos downloader for Facebook:fast fb video saver': 5000.0,\n",
       " 'AV-IPTV': 1000.0,\n",
       " 'Ay Sabz Gunbad Waly': 1000.0,\n",
       " 'Movie Downloader Torrent : Az Torrent': 1000.0,\n",
       " 'BC iptv player': 1000.0,\n",
       " 'Music for Youtube - Tube Music BG, Red+': 1000.0,\n",
       " 'CINE BR': 1000.0,\n",
       " 'BZ Langenthaler Tagblatt': 1000.0,\n",
       " 'EZ game screen recorder with audio 1080P': 1000.0,\n",
       " 'Video Wallpaper Show': 500.0,\n",
       " 'A-Z Screen Recorder -': 500.0,\n",
       " 'YourTube Video Views BG': 500.0,\n",
       " 'CJ Camcorder': 500.0,\n",
       " 'CX Monthly Tech News': 500.0,\n",
       " 'DG Screen Recorder': 500.0,\n",
       " 'AJ Player': 100.0,\n",
       " 'AK Lodi Films': 100.0,\n",
       " 'Bc Vod': 100.0,\n",
       " 'BG MUSIC PLAYER - MUSIC PLAYER': 100.0,\n",
       " 'Bx-WiFi-GI': 100.0,\n",
       " 'EC MANAGER': 100.0,\n",
       " 'List iptv FR': 100.0,\n",
       " 'CI Stream': 10.0,\n",
       " 'Art of F J Taylor': 10.0}"
      ]
     },
     "execution_count": 36,
     "metadata": {},
     "output_type": "execute_result"
    }
   ],
   "source": [
    "vid_apps"
   ]
  },
  {
   "cell_type": "code",
   "execution_count": 37,
   "metadata": {
    "ExecuteTime": {
     "end_time": "2020-07-06T12:46:47.534674Z",
     "start_time": "2020-07-06T12:46:47.524709Z"
    },
    "scrolled": true
   },
   "outputs": [
    {
     "data": {
      "text/plain": [
       "{'Facebook': 1000000000.0,\n",
       " 'Google+': 1000000000.0,\n",
       " 'Instagram': 1000000000.0,\n",
       " 'Facebook Lite': 500000000.0,\n",
       " 'Snapchat': 500000000.0,\n",
       " 'Tumblr': 100000000.0,\n",
       " 'Pinterest': 100000000.0,\n",
       " 'Badoo - Free Chat & Dating App': 100000000.0,\n",
       " 'Tango - Live Video Broadcast': 100000000.0,\n",
       " 'LinkedIn': 100000000.0,\n",
       " 'Tik Tok - including musical.ly': 100000000.0,\n",
       " 'BIGO LIVE - Live Stream': 100000000.0,\n",
       " 'VK': 100000000.0,\n",
       " 'ooVoo Video Calls, Messaging & Stories': 50000000.0,\n",
       " 'MeetMe: Chat & Meet New People': 50000000.0,\n",
       " 'Zello PTT Walkie Talkie': 50000000.0,\n",
       " 'POF Free Dating App': 50000000.0,\n",
       " 'SKOUT - Meet, Chat, Go Live': 50000000.0,\n",
       " 'TextNow - free text + calls': 10000000.0,\n",
       " 'LiveMe - Video chat, new friends, and make money': 10000000.0,\n",
       " 'HTC Social Plugin - Facebook': 10000000.0,\n",
       " 'Quora': 10000000.0,\n",
       " 'Kate Mobile for VK': 10000000.0,\n",
       " 'Text Me: Text Free, Call Free, Second Phone Number': 10000000.0,\n",
       " 'Text free - Free Text + Call': 10000000.0,\n",
       " 'YouNow: Live Stream Video Chat': 10000000.0,\n",
       " 'We Heart It': 10000000.0,\n",
       " 'Path': 10000000.0,\n",
       " 'SayHi Chat, Meet New People': 10000000.0,\n",
       " 'Tapatalk - 100,000+ Forums': 10000000.0,\n",
       " 'LOVOO': 10000000.0,\n",
       " 'Jaumo Dating, Flirt & Live Video': 10000000.0,\n",
       " 'textPlus: Free Text & Calls': 10000000.0,\n",
       " 'magicApp Calling & Messaging': 10000000.0,\n",
       " 'Dating App, Flirt & Chat : W-Match': 10000000.0,\n",
       " 'Tagged - Meet, Chat & Dating': 10000000.0,\n",
       " 'Mico- Stranger Chat Random video Chat, Live, Meet': 10000000.0,\n",
       " 'Waplog - Free Chat, Dating App, Meet Singles': 10000000.0,\n",
       " 'Legend - Animate Text in Video': 10000000.0,\n",
       " 'Find My Friends': 10000000.0,\n",
       " 'Grindr - Gay chat': 10000000.0,\n",
       " 'Periscope - Live Video': 10000000.0,\n",
       " 'Free phone calls, free texting SMS on free number': 10000000.0,\n",
       " 'Phone Tracker : Family Locator': 10000000.0,\n",
       " 'Amino: Communities and Chats': 10000000.0,\n",
       " 'Messages, Text and Video Chat for Messenger': 10000000.0,\n",
       " 'Messenger Messenger': 10000000.0,\n",
       " 'Messenger': 10000000.0,\n",
       " 'Telegram X': 5000000.0,\n",
       " 'Hide Something - Photo, Video': 5000000.0,\n",
       " 'Web Browser & Fast Explorer': 5000000.0,\n",
       " 'VidStatus app - Status Videos & Status Downloader': 5000000.0,\n",
       " 'SPARK - Live random video chat & meet new people': 5000000.0,\n",
       " 'Meet – Talk to Strangers Using Random Video Chat': 5000000.0,\n",
       " 'Text Free: WiFi Calling App': 5000000.0,\n",
       " 'Whisper': 5000000.0,\n",
       " 'Blogger': 5000000.0,\n",
       " 'Timehop': 5000000.0,\n",
       " 'Nextdoor - Local neighborhood news & classifieds': 5000000.0,\n",
       " 'Meetup': 5000000.0,\n",
       " 'Instachat 😜': 5000000.0,\n",
       " 'Fame Boom for Real Followers, Likes': 5000000.0,\n",
       " 'HOLLA Live: Meet New People via Random Video Chat': 5000000.0,\n",
       " 'Hornet - Gay Social Network': 5000000.0,\n",
       " 'Who Viewed My Facebook Profile - Stalkers Visitors': 5000000.0,\n",
       " 'FunForMobile Ringtones & Chat': 5000000.0,\n",
       " 'Frim: get new friends on local chat rooms': 5000000.0,\n",
       " 'The Messenger App': 1000000.0,\n",
       " 'Messenger Pro': 1000000.0,\n",
       " 'Free Messages, Video, Chat,Text for Messenger Plus': 1000000.0,\n",
       " 'Jodel - The Hyperlocal App': 1000000.0,\n",
       " 'Love Sticker': 1000000.0,\n",
       " 'Love Images': 1000000.0,\n",
       " 'Facebook Local': 1000000.0,\n",
       " 'MobilePatrol Public Safety App': 1000000.0,\n",
       " '💘 WhatsLov: Smileys of love, stickers and GIF': 1000000.0,\n",
       " 'Family GPS tracker KidControl + GPS by SMS Locator': 1000000.0,\n",
       " 'Moment': 1000000.0,\n",
       " 'TwitCasting Live': 1000000.0,\n",
       " 'Banjo': 1000000.0,\n",
       " 'Frontback - Social Photos': 1000000.0,\n",
       " 'Couple - Relationship App': 1000000.0,\n",
       " 'B-Messenger Video Chat': 1000000.0,\n",
       " 'FollowMeter for Instagram': 1000000.0,\n",
       " 'pixiv': 1000000.0,\n",
       " 'U LIVE – Video Chat & Stream': 1000000.0,\n",
       " 'VMate Lite - Funny Short Videos Social Network': 1000000.0,\n",
       " 'GUYZ - Gay Chat & Gay Dating': 1000000.0,\n",
       " 'Snaappy – 3D fun AR core communication platform': 1000000.0,\n",
       " 'Lesbian Chat & Dating - SPICY': 1000000.0,\n",
       " 'BOO! - Next Generation Messenger': 1000000.0,\n",
       " 'Wishbone - Compare Anything': 1000000.0,\n",
       " 'Fiesta by Tango - Find, Meet and Make New Friends': 1000000.0,\n",
       " '+Download 4 Instagram Twitter': 1000000.0,\n",
       " 'EZ Video Download for Facebook': 1000000.0,\n",
       " 'All Social Networks': 1000000.0,\n",
       " 'Facebook Creator': 1000000.0,\n",
       " 'Friendly for Facebook': 1000000.0,\n",
       " 'Faster for Facebook Lite': 1000000.0,\n",
       " 'Stickers for Facebook': 1000000.0,\n",
       " 'Web Browser ( Fast & Secure Web Explorer)': 500000.0,\n",
       " \"Bloglovin'\": 500000.0,\n",
       " 'Stream - Live Video Community': 500000.0,\n",
       " 'Mirrativ: Live Stream Any App': 500000.0,\n",
       " 'Greeting Cards & Wishes': 500000.0,\n",
       " 'Verdad o Reto': 500000.0,\n",
       " 'Gayvox - Gay Lesbian Bi Dating': 500000.0,\n",
       " 'Daddyhunt: Gay Dating': 500000.0,\n",
       " 'Fake Chat (Direct Message)': 500000.0,\n",
       " 'Qeek for Instagram - Zoom profile insta DP': 500000.0,\n",
       " 'Swift for Facebook Lite': 500000.0,\n",
       " 'Puffin for Facebook': 500000.0,\n",
       " 'Profile Tracker - Who Viewed My Facebook Profile': 500000.0,\n",
       " 'Pink Color for Facebook': 500000.0,\n",
       " 'Social network all in one 2018': 100000.0,\n",
       " 'The Video Messenger App': 100000.0,\n",
       " 'Blogaway for Android (Blogger)': 100000.0,\n",
       " 'Patook - make platonic friends': 100000.0,\n",
       " 'uCiC- Videos and Photos on demand': 100000.0,\n",
       " 'KDRAMA Amino for K-Drama Fans': 100000.0,\n",
       " 'KPOP Amino for K-Pop Entertainment': 100000.0,\n",
       " 'See U - Random video chat, video chat': 100000.0,\n",
       " 'What U See': 100000.0,\n",
       " 'Meet U - Get Friends for Snapchat, Kik & Instagram': 100000.0,\n",
       " 'YAY - TBH': 100000.0,\n",
       " 'Dr B R Ambedkar (Jai Bhim)': 100000.0,\n",
       " 'Dr. B.R.Ambedkar': 100000.0,\n",
       " 'Dating.dk': 100000.0,\n",
       " 'DP and Status for WhatsApp 2018': 100000.0,\n",
       " 'MB Notifications for FB (Free)': 100000.0,\n",
       " 'Phoenix - Facebook & Messenger': 100000.0,\n",
       " 'Faster Social for Facebook': 100000.0,\n",
       " 'FutureNet your social app': 100000.0,\n",
       " 'Chat For Strangers - Video Chat': 100000.0,\n",
       " 'Fr Daoud Lamei': 100000.0,\n",
       " 'Golden telegram': 50000.0,\n",
       " 'EXO-L Amino for EXO Fans': 50000.0,\n",
       " 'Undertale AU Amino': 50000.0,\n",
       " 'BT Dating -Find your match, help cupid, be social': 50000.0,\n",
       " 'Hashtags For Likes.co': 50000.0,\n",
       " 'CP Dialer': 50000.0,\n",
       " 'Rande.cz': 50000.0,\n",
       " 'Equestria Amino for MLP': 50000.0,\n",
       " 'Anime et Manga Amino en Français': 50000.0,\n",
       " 'FCB Connect - FC Barcelona': 50000.0,\n",
       " 'Share G - Images Sharing - Wallpapers App': 10000.0,\n",
       " 'Mali J': 10000.0,\n",
       " 'U-Report': 10000.0,\n",
       " 'Jamaa Amino for Animal Jam': 10000.0,\n",
       " 'Au Pair': 10000.0,\n",
       " 'BK Traffic Control cum Chart': 10000.0,\n",
       " 'Daily Murli Saar Widget': 10000.0,\n",
       " 'BT Communicator': 10000.0,\n",
       " 'Digi-TV.ch': 10000.0,\n",
       " 'Cyprus Police': 10000.0,\n",
       " 'DM Me - Chat': 10000.0,\n",
       " 'Best DP and Status': 10000.0,\n",
       " 'Ek Maratha': 10000.0,\n",
       " 'Eddsworld Amino': 10000.0,\n",
       " 'Stickers for Imo, fb, whatsapp': 10000.0,\n",
       " 'Lite Messenger for Facebook Lite': 10000.0,\n",
       " 'Mini for Facebook lite': 10000.0,\n",
       " 'Unlimited Group Links - Whatsapp, FB, Telegram': 10000.0,\n",
       " 'DB Event App': 5000.0,\n",
       " 'DM for IG 😘 - Image & Video Saver for Instagram': 5000.0,\n",
       " 'Dp For Whatsapp': 5000.0,\n",
       " 'Profile Pictures and DP for Whatsapp': 5000.0,\n",
       " 'Dp for Facebook': 5000.0,\n",
       " 'Instant DP Downloader for Instagram': 5000.0,\n",
       " 'DP Display Pictures Life Quotes Motivational GM': 5000.0,\n",
       " 'TN e Sevai TN EB Bill Patta Citta EC Birth All Hub': 5000.0,\n",
       " 'TNEB Bill Online Payment (Tamil)': 5000.0,\n",
       " 'Check Your Visitors on FB ?': 5000.0,\n",
       " 'funny Image Comments for FB': 5000.0,\n",
       " 'H letter images': 1000.0,\n",
       " 'Join R, Community Engagement': 1000.0,\n",
       " 'V Bucks ProTips New': 1000.0,\n",
       " 'eChallan Andhra Pradesh (AP)': 1000.0,\n",
       " 'Media Sosial TNI AU': 1000.0,\n",
       " 'BG LINKED (BGLINKED)': 1000.0,\n",
       " 'Zdravei.BG': 1000.0,\n",
       " 'BGKontakti Bayern BG Kontakti': 1000.0,\n",
       " 'BGKontakti Vienna BG Kontakti': 1000.0,\n",
       " 'BR Chat Bot': 1000.0,\n",
       " 'Black Social': 1000.0,\n",
       " 'CG Districts': 1000.0,\n",
       " 'Students.ch': 1000.0,\n",
       " 'signály.cz': 1000.0,\n",
       " 'DC Comics Amino': 1000.0,\n",
       " 'Noticias DF': 1000.0,\n",
       " 'Auto DM for Twitter 🔥': 1000.0,\n",
       " 'DW Streaming': 1000.0,\n",
       " 'TN EC Online New': 1000.0,\n",
       " 'Sabka Malik Ek Sai': 1000.0,\n",
       " 'European Solidarity Corps': 1000.0,\n",
       " 'Alarm.fo – choose your info': 1000.0,\n",
       " 'iCard BD Plus': 500.0,\n",
       " 'BGKontakti London BG Kontakti': 500.0,\n",
       " 'Br Browser': 500.0,\n",
       " 'DF BugMeNot': 500.0,\n",
       " 'DK Murali': 500.0,\n",
       " 'Downloader plus for FB': 500.0,\n",
       " 'i-share AF/KLM (AFKL ishare)': 100.0,\n",
       " 'Eternal Light AG': 100.0,\n",
       " 'Message AI - Write Better Messages (Free)': 100.0,\n",
       " 'Movement BE': 100.0,\n",
       " 'Discípulos em BH': 100.0,\n",
       " 'Alumni BJ': 100.0,\n",
       " 'Myjob@BM': 100.0,\n",
       " 'Evasion.bz': 100.0,\n",
       " 'CJ Gospel Hour': 100.0,\n",
       " 'GirlTalk.dk': 100.0,\n",
       " 'DM Storage (for twitter)': 100.0,\n",
       " 'DV Statistics': 100.0,\n",
       " 'TN Patta /Chitta /EC New': 100.0,\n",
       " 'Rejoin Your Ex': 100.0,\n",
       " 'Frases Cristianas de Esperanza y Fe': 100.0,\n",
       " 'Naruto & Boruto FR': 100.0,\n",
       " 'UP EB Bill Payment & Details': 50.0,\n",
       " 'EG Way Life': 50.0,\n",
       " 'Coupe Adhémar EY 2017': 50.0,\n",
       " 'FB Advanced Search': 50.0,\n",
       " 'BA 3 Banjarmasin': 10.0,\n",
       " 'bm-Events': 10.0,\n",
       " 'Otto DM': 10.0,\n",
       " 'DN Blog': 10.0,\n",
       " 'News Dz': 10.0,\n",
       " 'quran-DZ': 10.0,\n",
       " 'Hum Ek Hain 2.02': 10.0,\n",
       " 'EO RAIPUR': 10.0,\n",
       " 'Reisedealz.eu': 10.0,\n",
       " 'CB Heroes': 5.0,\n",
       " 'C.P. CERVANTES (TOBARRA)': 5.0,\n",
       " 'BH Connect': 1.0,\n",
       " 'Amleen Ey': 1.0,\n",
       " 'Pekalongan CJ': 0.0}"
      ]
     },
     "execution_count": 37,
     "metadata": {},
     "output_type": "execute_result"
    }
   ],
   "source": [
    "social_apps"
   ]
  },
  {
   "cell_type": "markdown",
   "metadata": {},
   "source": [
    "If we remove all the apps that have over 500 millions installs, we will obtain a different result, and hopefully, less biaised."
   ]
  },
  {
   "cell_type": "markdown",
   "metadata": {},
   "source": [
    "On the Google Play market, after some filterings, we can see that `Photography`, `Productivity` and `Game` apps show some potentials."
   ]
  },
  {
   "cell_type": "code",
   "execution_count": 38,
   "metadata": {
    "ExecuteTime": {
     "end_time": "2020-07-06T12:46:47.592521Z",
     "start_time": "2020-07-06T12:46:47.535673Z"
    },
    "scrolled": true
   },
   "outputs": [
    {
     "name": "stdout",
     "output_type": "stream",
     "text": [
      "PHOTOGRAPHY : 17840110.4\n",
      "PRODUCTIVITY : 16787331.34\n",
      "GAME : 15588015.6\n",
      "TRAVEL_AND_LOCAL : 13984077.71\n",
      "ENTERTAINMENT : 11640705.88\n",
      "TOOLS : 10801391.3\n",
      "NEWS_AND_MAGAZINES : 9549178.47\n",
      "COMMUNICATION : 9191689.13\n",
      "VIDEO_PLAYERS : 9177767.44\n",
      "BOOKS_AND_REFERENCE : 8767811.89\n",
      "SHOPPING : 7036877.31\n",
      "SOCIAL : 6440960.61\n",
      "PERSONALIZATION : 5201482.61\n",
      "WEATHER : 5074486.2\n",
      "HEALTH_AND_FITNESS : 4188821.99\n",
      "MAPS_AND_NAVIGATION : 4056941.77\n",
      "FAMILY : 3695641.82\n",
      "SPORTS : 3638640.14\n",
      "ART_AND_DESIGN : 1986335.09\n",
      "FOOD_AND_DRINK : 1924897.74\n",
      "EDUCATION : 1833495.15\n",
      "BUSINESS : 1712290.15\n",
      "LIFESTYLE : 1437816.27\n",
      "FINANCE : 1387692.48\n",
      "HOUSE_AND_HOME : 1331540.56\n",
      "DATING : 854028.83\n",
      "COMICS : 817657.27\n",
      "AUTO_AND_VEHICLES : 647317.82\n",
      "LIBRARIES_AND_DEMO : 638503.73\n",
      "PARENTING : 542603.62\n",
      "BEAUTY : 513151.89\n",
      "EVENTS : 253542.22\n",
      "MEDICAL : 120550.62\n"
     ]
    }
   ],
   "source": [
    "android_under500=[]\n",
    "for row in android_final:\n",
    "    if not ((row[1] in ('COMMUNICATION', 'VIDEO_PLAYERS', 'SOCIAL')) and (row[5]>100000000.0)):\n",
    "        android_under500.append(row)\n",
    "\n",
    "avg_android_2=cal_avg(dataset=android_under500, dict_genre=cat_android, index_genre=1, index_tot=5)\n",
    "for k, v in avg_android_2.items():\n",
    "    print(k,':',v)"
   ]
  },
  {
   "cell_type": "code",
   "execution_count": 39,
   "metadata": {
    "ExecuteTime": {
     "end_time": "2020-07-06T12:46:48.015204Z",
     "start_time": "2020-07-06T12:46:47.594516Z"
    }
   },
   "outputs": [
    {
     "data": {
      "image/png": "[encoded data removed]",
      "text/plain": [
       "<Figure size 1800x1080 with 1 Axes>"
      ]
     },
     "metadata": {
      "needs_background": "light"
     },
     "output_type": "display_data"
    }
   ],
   "source": [
    "display_chart(key=avg_android_2.keys(),value=avg_android_2.values())"
   ]
  },
  {
   "cell_type": "markdown",
   "metadata": {},
   "source": [
    "The game genre seems pretty popular, even though this part of the market seems a bit saturated, we can still develop a game that has potential because there's a wide variety of categories.  \n",
    "In addition, we noticed that on the iOS market, users seems to find game guides useful, especially for the popular title like 'Minecraft' or 'Pokemon GO', and the `Book and reference` is fairly popular on the Google Play market. We can either invent a new game with a unique gameplay or a guide apps for popular game titles."
   ]
  },
  {
   "cell_type": "markdown",
   "metadata": {},
   "source": [
    "### Conclusions"
   ]
  },
  {
   "cell_type": "markdown",
   "metadata": {},
   "source": [
    "In this project, we analyzed the data about the App Store and Google Play with the goal of recommending an app profile that can be profitable for both markets.  \n",
    "We have concluded that building a new and unique game or a guide app for popular game titles could be profitable. Since the markets are already full of games, we need to do some research to be able to develop an exceptional gameplay. Doing a game guide is also another solution since new games are released every year.  "
   ]
  }
 ],
 "metadata": {
  "kernelspec": {
   "display_name": "Python 3",
   "language": "python",
   "name": "python3"
  },
  "language_info": {
   "codemirror_mode": {
    "name": "ipython",
    "version": 3
   },
   "file_extension": ".py",
   "mimetype": "text/x-python",
   "name": "python",
   "nbconvert_exporter": "python",
   "pygments_lexer": "ipython3",
   "version": "3.7.1"
  },
  "toc": {
   "base_numbering": 1,
   "nav_menu": {},
   "number_sections": false,
   "sideBar": true,
   "skip_h1_title": false,
   "title_cell": "Table of Contents",
   "title_sidebar": "Contents",
   "toc_cell": false,
   "toc_position": {
    "height": "calc(100% - 180px)",
    "left": "10px",
    "top": "150px",
    "width": "291.275px"
   },
   "toc_section_display": true,
   "toc_window_display": false
  },
  "varInspector": {
   "cols": {
    "lenName": 16,
    "lenType": 16,
    "lenVar": 40
   },
   "kernels_config": {
    "python": {
     "delete_cmd_postfix": "",
     "delete_cmd_prefix": "del ",
     "library": "var_list.py",
     "varRefreshCmd": "print(var_dic_list())"
    },
    "r": {
     "delete_cmd_postfix": ") ",
     "delete_cmd_prefix": "rm(",
     "library": "var_list.r",
     "varRefreshCmd": "cat(var_dic_list()) "
    }
   },
   "types_to_exclude": [
    "module",
    "function",
    "builtin_function_or_method",
    "instance",
    "_Feature"
   ],
   "window_display": false
  }
 },
 "nbformat": 4,
 "nbformat_minor": 2
}
